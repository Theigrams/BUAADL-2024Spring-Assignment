{
 "cells": [
  {
   "cell_type": "markdown",
   "metadata": {},
   "source": [
    "# HW5-Lab1 - 微调BERT预训练模型 - Math Word Problem"
   ]
  },
  {
   "cell_type": "markdown",
   "metadata": {},
   "source": [
    "## 1. 数据集准备\n",
    "\n",
    "我们仍然使用 [Math23K](https://paperswithcode.com/dataset/math23k) 数据集。"
   ]
  },
  {
   "cell_type": "code",
   "execution_count": 1,
   "metadata": {},
   "outputs": [],
   "source": [
    "import json\n",
    "import math\n",
    "\n",
    "import numpy as np\n",
    "import torch\n",
    "import torch.nn as nn\n",
    "import torch.nn.functional as F\n",
    "from torch import Tensor\n",
    "from torch.utils.data import Dataset\n",
    "\n",
    "DEVICE = torch.device(\"cuda\" if torch.cuda.is_available() else \"cpu\")\n",
    "\n",
    "# Set seed.\n",
    "seed = 42\n",
    "np.random.seed(seed)\n",
    "torch.manual_seed(seed)\n",
    "torch.cuda.manual_seed(seed)\n",
    "torch.backends.cudnn.deterministic = True\n",
    "torch.backends.cudnn.benchmark = True"
   ]
  },
  {
   "cell_type": "code",
   "execution_count": 2,
   "metadata": {},
   "outputs": [
    {
     "name": "stdout",
     "output_type": "stream",
     "text": [
      "训练集大小: 22162\n",
      "测试集大小: 1000\n",
      "问题 1: 甲数除以乙数的商是temp_a，如果甲数增加temp_b，则甲数是乙的temp_c倍．原来甲数=．\n",
      "方程 1: ['temp_b', '/', '(', 'temp_c', '-', 'temp_a', ')', '*', 'temp_a']\n",
      "--------------------\n",
      "问题 2: 客车和货车分别从A、B两站同时相向开出，temp_a小时后相遇．相遇后，两车仍按原速度前进，当它们相距temp_b千米时，货车行了全程的temp_c%，客车已行的路程与未行的路程比是temp_d：temp_e．求A、B两站间的路程．\n",
      "方程 2: ['temp_b', '/', '(', 'temp_c', '+', '(', '(', 'temp_d', ')', '/', '(', 'temp_d', '+', 'temp_e', ')', ')', '-', '1', ')']\n",
      "--------------------\n",
      "问题 3: 图书角有书temp_a本，第一天借出了temp_b，第二天又还回temp_c本，现在图书角有多少本书？\n",
      "方程 3: ['temp_a', '*', '(', '1', '-', 'temp_b', ')', '+', 'temp_c']\n",
      "--------------------\n"
     ]
    }
   ],
   "source": [
    "def read_math23k_data(path):\n",
    "    \"\"\"读取 Math23K 数据集。\"\"\"\n",
    "    with open(path, \"r\", encoding=\"utf-8\") as f:\n",
    "        data = json.load(f)\n",
    "    problems = [item[\"text\"].replace(\" \", \"\") for item in data]\n",
    "    equations = [item[\"target_template\"][2:] for item in data]  # 移除方程的 'x=' 前缀\n",
    "    return problems, equations\n",
    "\n",
    "\n",
    "# 加载训练集和测试集\n",
    "train_path, test_path = \"data/train.json\", \"data/test.json\"\n",
    "train_problems, train_equations = read_math23k_data(train_path)\n",
    "test_problems, test_equations = read_math23k_data(test_path)\n",
    "\n",
    "print(f\"训练集大小: {len(train_problems)}\")\n",
    "print(f\"测试集大小: {len(test_problems)}\")\n",
    "\n",
    "# 打印一些示例数据\n",
    "for i in range(3):\n",
    "    print(f\"问题 {i+1}: {train_problems[i]}\")\n",
    "    print(f\"方程 {i+1}: {train_equations[i]}\")\n",
    "    print(\"-\" * 20)"
   ]
  },
  {
   "cell_type": "markdown",
   "metadata": {},
   "source": [
    "## 2. 数据预处理\n",
    "\n",
    "在将数据输入 BERT 模型之前，我们需要对数据进行预处理，这包括：\n",
    "- 不同于之前，我们这里使用 BERT 的 tokenizer 对 problems 进行编码\n",
    "- 对于 equations 的编码和之前一样\n",
    "\n",
    "### 2.1 使用 BERT Tokenizer"
   ]
  },
  {
   "cell_type": "code",
   "execution_count": 3,
   "metadata": {},
   "outputs": [
    {
     "name": "stdout",
     "output_type": "stream",
     "text": [
      "tensor([ 101, 4508, 3144, 7370,  809,  734, 3144, 4638, 1555, 3221, 8282, 9085,\n",
      "         142,  143, 8024, 1963, 3362, 4508, 3144, 1872, 1217, 8282, 9085,  142,\n",
      "         144, 8024, 1156, 4508, 3144, 3221,  734, 4638, 8282, 9085,  142,  145,\n",
      "         945, 8026, 1333, 3341, 4508, 3144,  134, 8026,  102,    0,    0,    0,\n",
      "           0,    0,    0,    0,    0,    0,    0,    0,    0,    0,    0,    0])\n",
      "[CLS] 甲 数 除 以 乙 数 的 商 是 temp _ a ， 如 果 甲 数 增 加 temp _ b ， 则 甲 数 是 乙 的 temp _ c 倍 ． 原 来 甲 数 = ． [SEP] [PAD] [PAD] [PAD] [PAD] [PAD] [PAD] [PAD] [PAD] [PAD] [PAD] [PAD] [PAD] [PAD] [PAD] [PAD]\n"
     ]
    }
   ],
   "source": [
    "from transformers import BertTokenizer\n",
    "\n",
    "# 使用 bert-base-chinese 预训练模型\n",
    "src_tokenizer = BertTokenizer.from_pretrained(\"bert-base-chinese\")\n",
    "\n",
    "\n",
    "def preprocess_src_sentence(sentence, tokenizer, max_len):\n",
    "    inputs = tokenizer(\n",
    "        sentence,\n",
    "        add_special_tokens=True,\n",
    "        return_tensors=\"pt\",\n",
    "        padding=\"max_length\",\n",
    "        truncation=True,\n",
    "        max_length=max_len,\n",
    "    )\n",
    "    return inputs[\"input_ids\"].squeeze()\n",
    "\n",
    "\n",
    "out = preprocess_src_sentence(train_problems[0], src_tokenizer, 60)\n",
    "print(out)\n",
    "print(src_tokenizer.decode(out))"
   ]
  },
  {
   "cell_type": "markdown",
   "metadata": {},
   "source": [
    "这段代码展示了如何使用预训练的 bert-base-chinese 模型的 tokenizer 对问题进行编码。preprocess_src_sentence 函数接收一个句子、tokenizer 和最大长度作为输入，并将句子转换为 BERT 模型可以理解的数字表示。\n",
    "\n",
    "### 2.2 对 equations 进行编码"
   ]
  },
  {
   "cell_type": "code",
   "execution_count": 4,
   "metadata": {},
   "outputs": [
    {
     "name": "stdout",
     "output_type": "stream",
     "text": [
      "Target Vocab Size: 30\n",
      "tensor([ 2,  5,  6,  7, 10, 11,  4,  8,  9,  4,  3,  1,  1,  1,  1,  1,  1,  1,\n",
      "         1,  1,  1,  1,  1,  1,  1,  1,  1,  1,  1,  1,  1,  1,  1,  1,  1,  1,\n",
      "         1,  1,  1,  1,  1,  1,  1,  1,  1,  1,  1,  1,  1,  1])\n",
      "<bos> temp_b / ( temp_c - temp_a ) * temp_a <eos> <pad> <pad> <pad> <pad> <pad> <pad> <pad> <pad> <pad> <pad> <pad> <pad> <pad> <pad> <pad> <pad> <pad> <pad> <pad> <pad> <pad> <pad> <pad> <pad> <pad> <pad> <pad> <pad> <pad> <pad> <pad> <pad> <pad> <pad> <pad> <pad> <pad> <pad> <pad>\n"
     ]
    }
   ],
   "source": [
    "from collections import Counter\n",
    "\n",
    "\n",
    "class Vocab:\n",
    "    def __init__(self, sentence_list, min_count=1):\n",
    "        self.token2idx = {\"<unk>\": 0, \"<pad>\": 1, \"<bos>\": 2, \"<eos>\": 3}\n",
    "        self.build_vocab(sentence_list, min_count)\n",
    "\n",
    "    def build_vocab(self, sentence_list, min_count):\n",
    "        token_counts = Counter([token for sentence in sentence_list for token in sentence])\n",
    "        sorted_tokens = [token for token, count in token_counts.items() if count >= min_count]\n",
    "        sorted_tokens.sort(key=lambda token: token_counts[token], reverse=True)\n",
    "        for token in sorted_tokens:\n",
    "            self.token2idx[token] = len(self.token2idx)\n",
    "        self.idx2token = {idx: token for token, idx in self.token2idx.items()}\n",
    "\n",
    "    def __len__(self):\n",
    "        return len(self.idx2token)\n",
    "\n",
    "    def token_to_index(self, token):\n",
    "        return self.token2idx.get(token, self.token2idx[\"<unk>\"])\n",
    "\n",
    "    def index_to_token(self, index):\n",
    "        return self.idx2token.get(index, \"<unk>\")\n",
    "\n",
    "    def to_tokens(self, indices):\n",
    "        return [self.index_to_token(index) for index in indices]\n",
    "\n",
    "    def to_indices(self, tokens):\n",
    "        return [self.token_to_index(token) for token in tokens]\n",
    "\n",
    "    def __repr__(self):\n",
    "        return f\"Vocab(size={len(self)})\"\n",
    "\n",
    "    def __getitem__(self, tokens):\n",
    "        if not isinstance(tokens, (list, tuple)):\n",
    "            return self.token_to_index(tokens)\n",
    "        return [self.token_to_index(token) for token in tokens]\n",
    "\n",
    "\n",
    "def preprocess_tgt_sentence(sentence, vocab, max_len):\n",
    "    sentence = [\"<bos>\"] + sentence + [\"<eos>\"]\n",
    "    indices = vocab[sentence]\n",
    "    indices = torch.tensor(indices)\n",
    "    if len(indices) > max_len:\n",
    "        indices = indices[:max_len]\n",
    "    else:\n",
    "        pad_size = max_len - len(indices)\n",
    "        indices = F.pad(indices, (0, pad_size), value=vocab[\"<pad>\"])\n",
    "    return indices\n",
    "\n",
    "\n",
    "tgt_vocab = Vocab(train_equations + test_equations)\n",
    "print(f\"Target Vocab Size: {len(tgt_vocab)}\")\n",
    "\n",
    "out = preprocess_tgt_sentence(train_equations[0], tgt_vocab, 50)\n",
    "print(out)\n",
    "print(\" \".join(tgt_vocab.to_tokens(out.tolist())))"
   ]
  },
  {
   "cell_type": "markdown",
   "metadata": {},
   "source": [
    "### 2.3 创建数据集"
   ]
  },
  {
   "cell_type": "code",
   "execution_count": 5,
   "metadata": {},
   "outputs": [],
   "source": [
    "class Math23kDataset(Dataset):\n",
    "    def __init__(self, problems, equations, src_tokenizer, tgt_vocab, src_max_len=120, tgt_max_len=50):\n",
    "        self.src_data = [preprocess_src_sentence(sentence, src_tokenizer, src_max_len) for sentence in problems]\n",
    "        self.tgt_data = [preprocess_tgt_sentence(sentence, tgt_vocab, tgt_max_len) for sentence in equations]\n",
    "\n",
    "    def __len__(self):\n",
    "        return len(self.src_data)\n",
    "\n",
    "    def __getitem__(self, idx):\n",
    "        return self.src_data[idx], self.tgt_data[idx]\n",
    "\n",
    "\n",
    "# 创建数据集\n",
    "train_dataset = Math23kDataset(train_problems, train_equations, src_tokenizer, tgt_vocab)\n",
    "test_dataset = Math23kDataset(test_problems, test_equations, src_tokenizer, tgt_vocab)"
   ]
  },
  {
   "cell_type": "markdown",
   "metadata": {},
   "source": [
    "## 3. 构建模型\n",
    "\n",
    "这里我们定义一个 BertSeq2SeqTransformer 模型，它使用预训练的 BERT 模型作为编码器，并使用 Transformer 解码器生成公式，其中 BERT 模型的权重固定，不参与训练。"
   ]
  },
  {
   "cell_type": "code",
   "execution_count": 6,
   "metadata": {},
   "outputs": [],
   "source": [
    "import torch.nn as nn\n",
    "import math\n",
    "\n",
    "\n",
    "class PositionalEncoding(nn.Module):\n",
    "    def __init__(self, emb_size: int, dropout: float, maxlen: int = 5000):\n",
    "        super(PositionalEncoding, self).__init__()\n",
    "        den = torch.exp(-torch.arange(0, emb_size, 2) * math.log(10000) / emb_size)\n",
    "        pos = torch.arange(0, maxlen).reshape(maxlen, 1)\n",
    "        pos_embedding = torch.zeros((maxlen, emb_size))\n",
    "        pos_embedding[:, 0::2] = torch.sin(pos * den)\n",
    "        pos_embedding[:, 1::2] = torch.cos(pos * den)\n",
    "\n",
    "        self.dropout = nn.Dropout(dropout)\n",
    "        self.register_buffer(\"pos_embedding\", pos_embedding)\n",
    "\n",
    "    def forward(self, token_embedding: torch.Tensor):\n",
    "        return self.dropout(token_embedding + self.pos_embedding[: token_embedding.size(1), :])\n",
    "\n",
    "\n",
    "class TokenEmbedding(nn.Module):\n",
    "    def __init__(self, vocab_size: int, emb_size):\n",
    "        super(TokenEmbedding, self).__init__()\n",
    "        self.embedding = nn.Embedding(vocab_size, emb_size)\n",
    "        self.emb_size = emb_size\n",
    "\n",
    "    def forward(self, tokens: torch.Tensor):\n",
    "        return self.embedding(tokens.long()) * math.sqrt(self.emb_size)"
   ]
  },
  {
   "cell_type": "code",
   "execution_count": 7,
   "metadata": {},
   "outputs": [],
   "source": [
    "from transformers import BertModel\n",
    "\n",
    "\n",
    "class BertSeq2SeqTransformer(nn.Module):\n",
    "    def __init__(\n",
    "        self, num_decoder_layers: int, emb_size, nhead, tgt_vocab_size, dim_feedforward: int = 512, dropout: float = 0.1\n",
    "    ):\n",
    "        super(BertSeq2SeqTransformer, self).__init__()\n",
    "\n",
    "        # 使用预训练的 BERT 模型作为编码器\n",
    "        self.bert = BertModel.from_pretrained(\"bert-base-chinese\")\n",
    "        # 冻结BERT模型的参数，使其在训练过程中不被更新\n",
    "        for param in self.bert.parameters():\n",
    "            param.requires_grad = False\n",
    "        self.bert_output_linear = nn.Linear(768, emb_size)\n",
    "\n",
    "        # 解码器部分\n",
    "        self.positional_encoding = PositionalEncoding(emb_size, dropout=dropout)\n",
    "        self.tgt_tok_emb = TokenEmbedding(tgt_vocab_size, emb_size)\n",
    "        decoder_layer = nn.TransformerDecoderLayer(\n",
    "            d_model=emb_size, nhead=nhead, dim_feedforward=dim_feedforward, dropout=dropout, batch_first=True\n",
    "        )\n",
    "        self.transformer_decoder = nn.TransformerDecoder(decoder_layer, num_layers=num_decoder_layers)\n",
    "        self.generator = nn.Linear(emb_size, tgt_vocab_size)\n",
    "\n",
    "    def forward(\n",
    "        self,\n",
    "        src: torch.Tensor,\n",
    "        trg: torch.Tensor,\n",
    "        src_mask: torch.Tensor,\n",
    "        tgt_mask: torch.Tensor,\n",
    "        src_padding_mask: torch.Tensor,\n",
    "        tgt_padding_mask: torch.Tensor,\n",
    "    ):\n",
    "        # TODO: 实现模型的前向传播\n",
    "        memory = self.encode(src, src_mask, src_padding_mask)\n",
    "        output = self.decode(trg, memory, tgt_mask)\n",
    "        return self.generator(output)\n",
    "\n",
    "    def encode(self, src: torch.Tensor, src_mask: torch.Tensor, src_key_padding_mask=None):\n",
    "        with torch.no_grad():\n",
    "            src_emb = self.bert(src, attention_mask=~src_key_padding_mask)[0]\n",
    "        src_emb = self.bert_output_linear(src_emb)\n",
    "        return src_emb\n",
    "\n",
    "    def decode(self, tgt: torch.Tensor, memory: torch.Tensor, tgt_mask: torch.Tensor):\n",
    "        return self.transformer_decoder(self.positional_encoding(self.tgt_tok_emb(tgt)), memory, tgt_mask)"
   ]
  },
  {
   "cell_type": "markdown",
   "metadata": {},
   "source": [
    "## 4. 训练模型\n",
    "\n",
    "### 4.1 定义训练函数和评估函数"
   ]
  },
  {
   "cell_type": "code",
   "execution_count": 8,
   "metadata": {},
   "outputs": [],
   "source": [
    "SRC_PAD_IDX, TGT_PAD_IDX = 0, 1\n",
    "\n",
    "\n",
    "def create_mask(src, tgt):\n",
    "    src_seq_len = src.shape[1]\n",
    "    tgt_seq_len = tgt.shape[1]\n",
    "\n",
    "    src_mask = torch.zeros((src_seq_len, src_seq_len), dtype=torch.bool, device=DEVICE)\n",
    "    tgt_mask = torch.ones((tgt_seq_len, tgt_seq_len), dtype=torch.bool, device=DEVICE).triu_(diagonal=1)\n",
    "\n",
    "    src_padding_mask = src == SRC_PAD_IDX\n",
    "    tgt_padding_mask = tgt == TGT_PAD_IDX\n",
    "    return src_mask, tgt_mask, src_padding_mask, tgt_padding_mask"
   ]
  },
  {
   "cell_type": "code",
   "execution_count": 9,
   "metadata": {},
   "outputs": [],
   "source": [
    "def train_epoch(model, train_loader, optimizer, loss_fn):\n",
    "    model.train()\n",
    "    losses = 0\n",
    "    for src, tgt in train_loader:\n",
    "        src, tgt = src.to(DEVICE), tgt.to(DEVICE)\n",
    "        tgt_input = tgt[:, :-1]\n",
    "        src_mask, tgt_mask, src_padding_mask, tgt_padding_mask = create_mask(src, tgt_input)\n",
    "\n",
    "        logits = model(src, tgt_input, src_mask, tgt_mask, src_padding_mask, tgt_padding_mask)\n",
    "        optimizer.zero_grad()\n",
    "\n",
    "        tgt_out = tgt[:, 1:]\n",
    "        loss = loss_fn(logits.reshape(-1, logits.shape[-1]), tgt_out.reshape(-1))\n",
    "        loss.backward()\n",
    "\n",
    "        torch.nn.utils.clip_grad_norm_(model.parameters(), 1)\n",
    "\n",
    "        optimizer.step()\n",
    "        losses += loss.item()\n",
    "\n",
    "    return losses / len(train_loader)\n",
    "\n",
    "\n",
    "def evaluate(model, val_loader, loss_fn):\n",
    "    model.eval()\n",
    "    losses = 0\n",
    "    for src, tgt in val_loader:\n",
    "        src, tgt = src.to(DEVICE), tgt.to(DEVICE)\n",
    "        tgt_input = tgt[:, :-1]\n",
    "        src_mask, tgt_mask, src_padding_mask, tgt_padding_mask = create_mask(src, tgt_input)\n",
    "\n",
    "        logits = model(src, tgt_input, src_mask, tgt_mask, src_padding_mask, tgt_padding_mask)\n",
    "\n",
    "        tgt_out = tgt[:, 1:]\n",
    "        loss = loss_fn(logits.reshape(-1, logits.shape[-1]), tgt_out.reshape(-1))\n",
    "        losses += loss.item()\n",
    "\n",
    "    return losses / len(val_loader)"
   ]
  },
  {
   "cell_type": "markdown",
   "metadata": {},
   "source": [
    "### 4.2 设置超参数和初始化模型"
   ]
  },
  {
   "cell_type": "code",
   "execution_count": 10,
   "metadata": {},
   "outputs": [
    {
     "name": "stdout",
     "output_type": "stream",
     "text": [
      "Total trainable params: 1.164446 M\n"
     ]
    }
   ],
   "source": [
    "TGT_VOCAB_SIZE = len(tgt_vocab)\n",
    "EMB_SIZE = 128\n",
    "NHEAD = 8  # 注意力头数\n",
    "FFN_HID_DIM = 512  # FeedForward隐藏层维度\n",
    "NUM_LAYERS = 4  # Transformer层数\n",
    "\n",
    "BATCH_SIZE = 64\n",
    "LEARNING_RATE = 0.0008\n",
    "DROP_OUT = 0.1\n",
    "\n",
    "model = BertSeq2SeqTransformer(NUM_LAYERS, EMB_SIZE, NHEAD, TGT_VOCAB_SIZE, FFN_HID_DIM, DROP_OUT)\n",
    "\n",
    "total_params = sum(p.numel() for p in model.parameters() if p.requires_grad)\n",
    "print(\"Total trainable params:\", total_params / 1e6, \"M\")\n",
    "\n",
    "model = model.to(DEVICE)\n",
    "\n",
    "criterion = nn.CrossEntropyLoss(ignore_index=tgt_vocab[\"<pad>\"])\n",
    "optimizer = torch.optim.Adam(model.parameters(), lr=LEARNING_RATE)"
   ]
  },
  {
   "cell_type": "markdown",
   "metadata": {},
   "source": [
    "### 4.3 开始训练"
   ]
  },
  {
   "cell_type": "code",
   "execution_count": 11,
   "metadata": {},
   "outputs": [
    {
     "name": "stdout",
     "output_type": "stream",
     "text": [
      "Epoch: 0, Train loss: 0.998, Val loss: 0.743, Epoch time = 62.231s\n",
      "Epoch: 1, Train loss: 0.699, Val loss: 0.614, Epoch time = 62.369s\n",
      "Epoch: 2, Train loss: 0.598, Val loss: 0.528, Epoch time = 62.368s\n",
      "Epoch: 3, Train loss: 0.536, Val loss: 0.502, Epoch time = 62.381s\n",
      "Epoch: 4, Train loss: 0.496, Val loss: 0.484, Epoch time = 62.393s\n",
      "Epoch: 5, Train loss: 0.464, Val loss: 0.446, Epoch time = 62.406s\n",
      "Epoch: 6, Train loss: 0.439, Val loss: 0.436, Epoch time = 62.408s\n",
      "Epoch: 7, Train loss: 0.422, Val loss: 0.417, Epoch time = 62.404s\n",
      "Epoch: 8, Train loss: 0.402, Val loss: 0.400, Epoch time = 62.408s\n",
      "Epoch: 9, Train loss: 0.391, Val loss: 0.400, Epoch time = 62.407s\n",
      "Epoch: 10, Train loss: 0.376, Val loss: 0.400, Epoch time = 62.408s\n",
      "Epoch: 11, Train loss: 0.363, Val loss: 0.379, Epoch time = 62.415s\n",
      "Epoch: 12, Train loss: 0.352, Val loss: 0.383, Epoch time = 62.425s\n",
      "Epoch: 13, Train loss: 0.344, Val loss: 0.384, Epoch time = 62.417s\n",
      "Epoch: 14, Train loss: 0.338, Val loss: 0.369, Epoch time = 62.420s\n",
      "Epoch: 15, Train loss: 0.328, Val loss: 0.360, Epoch time = 62.421s\n",
      "Epoch: 16, Train loss: 0.321, Val loss: 0.366, Epoch time = 62.428s\n",
      "Epoch: 17, Train loss: 0.316, Val loss: 0.356, Epoch time = 62.427s\n",
      "Epoch: 18, Train loss: 0.310, Val loss: 0.362, Epoch time = 62.426s\n",
      "Epoch: 19, Train loss: 0.301, Val loss: 0.364, Epoch time = 62.420s\n",
      "Epoch: 20, Train loss: 0.298, Val loss: 0.367, Epoch time = 62.426s\n",
      "Epoch: 21, Train loss: 0.294, Val loss: 0.357, Epoch time = 62.426s\n",
      "Epoch: 22, Train loss: 0.287, Val loss: 0.344, Epoch time = 62.414s\n",
      "Epoch: 23, Train loss: 0.283, Val loss: 0.354, Epoch time = 62.408s\n",
      "Epoch: 24, Train loss: 0.279, Val loss: 0.351, Epoch time = 62.418s\n",
      "Epoch: 25, Train loss: 0.275, Val loss: 0.338, Epoch time = 62.414s\n",
      "Epoch: 26, Train loss: 0.273, Val loss: 0.345, Epoch time = 62.415s\n",
      "Epoch: 27, Train loss: 0.269, Val loss: 0.347, Epoch time = 62.418s\n",
      "Epoch: 28, Train loss: 0.265, Val loss: 0.347, Epoch time = 62.404s\n",
      "Epoch: 29, Train loss: 0.262, Val loss: 0.348, Epoch time = 62.415s\n"
     ]
    }
   ],
   "source": [
    "from timeit import default_timer as timer\n",
    "\n",
    "from torch.utils.data import DataLoader\n",
    "\n",
    "NUM_EPOCHS = 30\n",
    "\n",
    "train_loader = DataLoader(train_dataset, batch_size=BATCH_SIZE, shuffle=True)\n",
    "val_loader = DataLoader(test_dataset, batch_size=BATCH_SIZE)\n",
    "\n",
    "train_loss_list, valid_loss_list = [], []\n",
    "\n",
    "for epoch in range(NUM_EPOCHS):\n",
    "    start_time = timer()\n",
    "    train_loss = train_epoch(model, train_loader, optimizer, criterion)\n",
    "    val_loss = evaluate(model, val_loader, criterion)\n",
    "    end_time = timer()\n",
    "    train_loss_list.append(train_loss)\n",
    "    valid_loss_list.append(val_loss)\n",
    "    print(\n",
    "        (\n",
    "            f\"Epoch: {epoch}, Train loss: {train_loss:.3f}, Val loss: {val_loss:.3f}, \"\n",
    "            f\"Epoch time = {(end_time - start_time):.3f}s\"\n",
    "        )\n",
    "    )\n",
    "\n",
    "# 保存模型\n",
    "torch.save(model.state_dict(), \"bert_model.pth\")"
   ]
  },
  {
   "cell_type": "code",
   "execution_count": 12,
   "metadata": {},
   "outputs": [
    {
     "data": {
      "image/png": "[encoded data removed]",
      "text/plain": [
       "<Figure size 1000x700 with 1 Axes>"
      ]
     },
     "metadata": {
      "image/png": {
       "height": 602,
       "width": 846
      }
     },
     "output_type": "display_data"
    }
   ],
   "source": [
    "import matplotlib.pyplot as plt\n",
    "\n",
    "%config InlineBackend.figure_format='retina'\n",
    "plt.figure(figsize=(10, 7))\n",
    "plt.plot(train_loss_list, color=\"blue\", linestyle=\"-\", label=\"train loss\")\n",
    "plt.plot(valid_loss_list, color=\"red\", linestyle=\"-\", label=\"valid loss\")\n",
    "plt.xlabel(\"Epochs\")\n",
    "plt.ylabel(\"Loss\")\n",
    "plt.legend()\n",
    "plt.show()"
   ]
  },
  {
   "cell_type": "markdown",
   "metadata": {},
   "source": [
    "## 5. 模型评估"
   ]
  },
  {
   "cell_type": "code",
   "execution_count": 13,
   "metadata": {},
   "outputs": [],
   "source": [
    "def equation_accuracy(preds, tgts):\n",
    "    correct = 0\n",
    "    for tgt, pred in zip(tgts, preds):\n",
    "        if tgt == pred:\n",
    "            correct += 1\n",
    "    return correct / len(tgts)\n",
    "\n",
    "\n",
    "@torch.no_grad()\n",
    "def greedy_decode(model, src, max_len, start_symbol):\n",
    "    src = src.to(DEVICE)\n",
    "    ys = torch.ones(1, 1).fill_(start_symbol).type(torch.long).to(DEVICE)\n",
    "    src_mask, tgt_mask, src_padding_mask, _ = create_mask(src, ys)\n",
    "\n",
    "    memory = model.encode(src, src_mask, src_padding_mask)\n",
    "\n",
    "    for i in range(max_len - 1):\n",
    "        tgt_mask = torch.ones((ys.shape[1], ys.shape[1]), dtype=torch.bool, device=DEVICE).triu_(diagonal=1)\n",
    "\n",
    "        out = model.decode(ys, memory, tgt_mask)\n",
    "\n",
    "        prob = model.generator(out[:, -1])\n",
    "        _, next_word = torch.max(prob, dim=1)\n",
    "        next_word = next_word.item()\n",
    "\n",
    "        ys = torch.cat([ys, torch.ones(1, 1).fill_(next_word).type(torch.long).to(DEVICE)], dim=1)\n",
    "        if next_word == tgt_vocab[\"<eos>\"]:\n",
    "            break\n",
    "    return ys\n",
    "\n",
    "\n",
    "@torch.no_grad()\n",
    "def inference(model, problem):\n",
    "    model.eval()\n",
    "    src = preprocess_src_sentence(problem, src_tokenizer, 120)\n",
    "    src = src.unsqueeze(0)\n",
    "    tgt_tokens = greedy_decode(model, src, max_len=50, start_symbol=tgt_vocab[\"<bos>\"]).flatten()\n",
    "    return \"\".join(tgt_vocab.to_tokens(tgt_tokens.tolist())).replace(\"<bos>\", \"\").replace(\"<eos>\", \"\")"
   ]
  },
  {
   "cell_type": "code",
   "execution_count": 14,
   "metadata": {},
   "outputs": [
    {
     "name": "stdout",
     "output_type": "stream",
     "text": [
      "问题 1: 在一正方形花池的四周栽了temp_a棵柳树，每两棵柳树之间的间隔是temp_b米，这个正方形的周长=多少米？\n",
      "真实方程: temp_a*temp_b\n",
      "预测方程: temp_b*(temp_a-1)\n",
      "--------------------\n",
      "问题 2: 张明有temp_a元钱，买书用去temp_b%，买文具的钱是买书的temp_c%．买文具用去多少元？\n",
      "真实方程: temp_a*temp_b*temp_c\n",
      "预测方程: temp_a*temp_b/temp_c\n",
      "--------------------\n",
      "问题 3: 一个工厂要生产temp_a个零件，前temp_b天生产了temp_c个，剩下的要在temp_d天内完成，平均每天生产多少个？\n",
      "真实方程: (temp_a-temp_c)/temp_d\n",
      "预测方程: (temp_a-temp_c)/temp_d\n",
      "--------------------\n",
      "问题 4: 一本字典定价temp_a元，temp_b出售后还赚temp_c%，这本字典进价=多少元．\n",
      "真实方程: temp_a*temp_b/(1+temp_c)\n",
      "预测方程: temp_a*temp_b/(1+temp_c)\n",
      "--------------------\n",
      "问题 5: 修一段长temp_a米的路，前temp_b小时共修了temp_c米，剩下的每小时修temp_d米，还要几小时才能修完？\n",
      "真实方程: (temp_a-temp_c)/temp_d\n",
      "预测方程: (temp_a-temp_c)/temp_d\n",
      "--------------------\n"
     ]
    }
   ],
   "source": [
    "for i in range(5):\n",
    "    problem, equation = test_problems[i], test_equations[i]\n",
    "    print(f\"问题 {i+1}: {problem}\")\n",
    "    print(f\"真实方程: {''.join(equation)}\")\n",
    "    print(f\"预测方程: {inference(model, problem)}\")\n",
    "    print(\"-\" * 20)"
   ]
  },
  {
   "cell_type": "code",
   "execution_count": 15,
   "metadata": {},
   "outputs": [
    {
     "name": "stderr",
     "output_type": "stream",
     "text": [
      "100%|██████████| 1000/1000 [00:13<00:00, 75.89it/s]\n"
     ]
    }
   ],
   "source": [
    "from tqdm import tqdm\n",
    "\n",
    "test_loader = DataLoader(test_dataset, batch_size=1)\n",
    "preds, tgts = [], []\n",
    "for src, tgt in tqdm(test_loader):\n",
    "    pred = greedy_decode(model, src, max_len=50, start_symbol=tgt_vocab[\"<bos>\"]).flatten()\n",
    "    pred = tgt_vocab.to_tokens(pred.tolist())\n",
    "    preds.append(\"\".join(pred).replace(\"<bos>\", \"\").replace(\"<eos>\", \"\").replace(\"<pad>\", \"\"))\n",
    "    tgts.append(\n",
    "        \"\".join(tgt_vocab.to_tokens(tgt[0].tolist())).replace(\"<bos>\", \"\").replace(\"<eos>\", \"\").replace(\"<pad>\", \"\")\n",
    "    )\n",
    "acc = equation_accuracy(preds, tgts)"
   ]
  },
  {
   "cell_type": "code",
   "execution_count": 16,
   "metadata": {},
   "outputs": [
    {
     "name": "stdout",
     "output_type": "stream",
     "text": [
      "方程准确率: 0.571\n"
     ]
    }
   ],
   "source": [
    "print(f\"方程准确率: {acc:.3f}\")"
   ]
  }
 ],
 "metadata": {
  "kernelspec": {
   "display_name": "dl",
   "language": "python",
   "name": "python3"
  },
  "language_info": {
   "codemirror_mode": {
    "name": "ipython",
    "version": 3
   },
   "file_extension": ".py",
   "mimetype": "text/x-python",
   "name": "python",
   "nbconvert_exporter": "python",
   "pygments_lexer": "ipython3",
   "version": "3.11.8"
  }
 },
 "nbformat": 4,
 "nbformat_minor": 2
}
