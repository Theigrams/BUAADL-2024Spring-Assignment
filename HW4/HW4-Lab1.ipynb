{
 "cells": [
  {
   "cell_type": "markdown",
   "id": "8f6c4aa7",
   "metadata": {},
   "source": [
    "# HW4-Lab1 - Transformer应用 - Math Word Problem\n",
    "\n",
    "## 0. 任务介绍\n",
    "\n",
    "### 0.1 问题背景\n",
    "\n",
    "MWP模型的输入是一段数学文本，输出是求解该问题的方程，如下图所示\n",
    "\n",
    "<img src=\"./pic/problem.png\" width=\"60%\" />\n",
    "\n",
    "输入的数学文本是一个序列（单词级别分词），输出的方程也是一个序列（字符级别分词），下图展示了一个最简单的MWP模型：\n",
    "\n",
    "<img src=\"./pic/model.png\" width=\"100%\" />"
   ]
  },
  {
   "cell_type": "markdown",
   "id": "6f3ff9f7",
   "metadata": {},
   "source": [
    "### 0.2 任务说明\n",
    "\n",
    "以下代码给出了基于 RNN 的 MWP 模型[1]的实现，包括数据处理、模型构建、训练和预测等部分，准确率在 5.4% 左右。\n",
    "\n",
    "请以给出的代码模板作为参考，使用 Transformer 进行改进， 要求：\n",
    "- 在 30 个 epoch 内\n",
    "- 测试集上的准确率达到 20% 以上\n",
    "\n",
    "### 0.3 Hint\n",
    "\n",
    "一个推荐的 Transformer 超参数如下：\n",
    "\n",
    "- num_layers: 4\n",
    "- embedding_dim: 128\n",
    "- num_heads: 8\n",
    "- ffn_dim: 512\n",
    "- dropout: 0.1\n",
    "- learning_rate: 0.0008\n",
    "\n",
    "其中学习率可能需要个性化调整。\n",
    "\n",
    "\n",
    "\n",
    "[1] Wang, Yan et al. “Deep Neural Solver for Math Word Problems.” Conference on Empirical Methods in Natural Language Processing (2017)."
   ]
  },
  {
   "cell_type": "markdown",
   "id": "3043cb0d",
   "metadata": {},
   "source": [
    "## 1. 数据集准备\n",
    "\n",
    "我们使用 [Math23K](https://paperswithcode.com/dataset/math23k) 数据集，其中包含数学应用题以及对应的方程。"
   ]
  },
  {
   "cell_type": "code",
   "execution_count": 1,
   "id": "4d99d358",
   "metadata": {},
   "outputs": [],
   "source": [
    "import json\n",
    "import math\n",
    "\n",
    "import numpy as np\n",
    "import torch\n",
    "import torch.nn as nn\n",
    "import torch.nn.functional as F\n",
    "from torch import Tensor\n",
    "from torch.utils.data import Dataset\n",
    "\n",
    "DEVICE = torch.device(\"cuda\" if torch.cuda.is_available() else \"cpu\")\n",
    "PAD_IDX = 1\n",
    "\n",
    "# Set seed.\n",
    "seed = 42\n",
    "np.random.seed(seed)\n",
    "torch.manual_seed(seed)\n",
    "torch.cuda.manual_seed(seed)\n",
    "torch.backends.cudnn.deterministic = True\n",
    "torch.backends.cudnn.benchmark = True"
   ]
  },
  {
   "cell_type": "code",
   "execution_count": 2,
   "id": "c5abc787",
   "metadata": {},
   "outputs": [
    {
     "name": "stdout",
     "output_type": "stream",
     "text": [
      "训练集大小: 22162\n",
      "测试集大小: 1000\n"
     ]
    }
   ],
   "source": [
    "# 读取Math23K数据集\n",
    "def read_math23k_data(path):\n",
    "    with open(path, \"r\", encoding=\"utf-8\") as f:\n",
    "        data = json.load(f)\n",
    "    problems = [item[\"text\"].split() for item in data]  # 将问题文本分割成单词\n",
    "    equations = [item[\"target_template\"][2:] for item in data]  # 移除方程的 'x=' 前缀\n",
    "    return problems, equations\n",
    "\n",
    "\n",
    "train_path, test_path = \"data/train.json\", \"data/test.json\"\n",
    "# 加载数据集\n",
    "train_problems, train_equations = read_math23k_data(\"data/train.json\")\n",
    "test_problems, test_equations = read_math23k_data(\"data/test.json\")\n",
    "\n",
    "print(f\"训练集大小: {len(train_problems)}\")\n",
    "print(f\"测试集大小: {len(test_problems)}\")"
   ]
  },
  {
   "cell_type": "markdown",
   "id": "850398ad",
   "metadata": {},
   "source": [
    "让我们看一下数据集中的示例。"
   ]
  },
  {
   "cell_type": "code",
   "execution_count": 3,
   "id": "4c2b370e",
   "metadata": {},
   "outputs": [
    {
     "name": "stdout",
     "output_type": "stream",
     "text": [
      "问题 1: ['甲数', '除以', '乙数', '的', '商是', 'temp_a', '，', '如果', '甲数', '增加', 'temp_b', '，', '则', '甲数', '是', '乙', '的', 'temp_c', '倍', '．', '原来', '甲数', '=', '．']\n",
      "方程 1: ['temp_b', '/', '(', 'temp_c', '-', 'temp_a', ')', '*', 'temp_a']\n",
      "--------------------\n",
      "问题 2: ['客车', '和', '货车', '分别', '从', 'A', '、', 'B', '两站', '同时', '相向', '开出', '，', 'temp_a', '小时', '后', '相遇', '．', '相遇', '后', '，', '两车', '仍', '按原', '速度', '前进', '，', '当', '它们', '相距', 'temp_b', '千米', '时', '，', '货车', '行', '了', '全程', '的', 'temp_c', '%', '，', '客车', '已行', '的', '路程', '与', '未行', '的', '路程', '比是', 'temp_d', '：', 'temp_e', '．', '求', 'A', '、', 'B', '两站', '间', '的', '路程', '．']\n",
      "方程 2: ['temp_b', '/', '(', 'temp_c', '+', '(', '(', 'temp_d', ')', '/', '(', 'temp_d', '+', 'temp_e', ')', ')', '-', '1', ')']\n",
      "--------------------\n",
      "问题 3: ['图书', '角有', '书', 'temp_a', '本', '，', '第一天', '借出', '了', 'temp_b', '，', '第二天', '又', '还', '回', 'temp_c', '本', '，', '现在', '图书', '角有', '多少', '本书', '？']\n",
      "方程 3: ['temp_a', '*', '(', '1', '-', 'temp_b', ')', '+', 'temp_c']\n",
      "--------------------\n"
     ]
    }
   ],
   "source": [
    "for i in range(3):\n",
    "    print(f\"问题 {i+1}: {train_problems[i]}\")\n",
    "    print(f\"方程 {i+1}: {train_equations[i]}\")\n",
    "    print(\"-\" * 20)"
   ]
  },
  {
   "cell_type": "markdown",
   "id": "796b984f",
   "metadata": {},
   "source": [
    "## 2. 数据预处理\n"
   ]
  },
  {
   "cell_type": "markdown",
   "id": "2f903676",
   "metadata": {},
   "source": [
    "### 2.1 创建词汇表\n",
    "\n",
    "我们将构建一个 Vocab 类，将每个 token 映射到一个唯一的整数 ID，并定义反向的映射。"
   ]
  },
  {
   "cell_type": "code",
   "execution_count": 4,
   "id": "57bb4cea",
   "metadata": {},
   "outputs": [
    {
     "name": "stdout",
     "output_type": "stream",
     "text": [
      "Source Vocab Size: 15452\n",
      "Target Vocab Size: 30\n"
     ]
    }
   ],
   "source": [
    "from collections import Counter\n",
    "\n",
    "\n",
    "class Vocab:\n",
    "    def __init__(self, sentence_list, min_count=1):\n",
    "        self.token2idx = {\"<unk>\": 0, \"<pad>\": 1, \"<bos>\": 2, \"<eos>\": 3}\n",
    "        self.build_vocab(sentence_list, min_count)\n",
    "\n",
    "    def build_vocab(self, sentence_list, min_count):\n",
    "        # 统计词频\n",
    "        token_counts = Counter([token for sentence in sentence_list for token in sentence])\n",
    "        # 对词汇按频率排序并为频率大于等于min_count的词汇分配索引\n",
    "        sorted_tokens = [token for token, count in token_counts.items() if count >= min_count]\n",
    "        sorted_tokens.sort(key=lambda token: token_counts[token], reverse=True)\n",
    "        for token in sorted_tokens:\n",
    "            self.token2idx[token] = len(self.token2idx)\n",
    "        # 创建反向索引\n",
    "        self.idx2token = {idx: token for token, idx in self.token2idx.items()}\n",
    "\n",
    "    def __len__(self):\n",
    "        return len(self.idx2token)\n",
    "\n",
    "    def token_to_index(self, token):\n",
    "        if isinstance(token, str):\n",
    "            return self.token2idx.get(token, self.token2idx[\"<unk>\"])\n",
    "        else:\n",
    "            raise TypeError(\"Token should be a string\")\n",
    "\n",
    "    def index_to_token(self, index):\n",
    "        if isinstance(index, int):\n",
    "            return self.idx2token.get(index, \"<unk>\")\n",
    "        else:\n",
    "            raise TypeError(\"Index should be an integer\")\n",
    "\n",
    "    def to_tokens(self, indices):\n",
    "        return [self.index_to_token(index) for index in indices]\n",
    "\n",
    "    def to_indices(self, tokens):\n",
    "        return [self.token_to_index(token) for token in tokens]\n",
    "\n",
    "    def __repr__(self):\n",
    "        return f\"Vocab(size={len(self)})\"\n",
    "\n",
    "    def __getitem__(self, tokens):\n",
    "        if not isinstance(tokens, (list, tuple)):\n",
    "            return self.token_to_index(tokens)\n",
    "        return [self.token_to_index(token) for token in tokens]\n",
    "\n",
    "\n",
    "src_vocab = Vocab(train_problems + test_problems)\n",
    "tgt_vocab = Vocab(train_equations + test_equations)\n",
    "print(f\"Source Vocab Size: {len(src_vocab)}\")\n",
    "print(f\"Target Vocab Size: {len(tgt_vocab)}\")"
   ]
  },
  {
   "cell_type": "markdown",
   "id": "d3e185b5",
   "metadata": {},
   "source": [
    "下面我们将使用一些示例数据来演示 Vocab 的用法："
   ]
  },
  {
   "cell_type": "code",
   "execution_count": 5,
   "id": "80debfdb",
   "metadata": {},
   "outputs": [
    {
     "name": "stdout",
     "output_type": "stream",
     "text": [
      "vocab 大小: 12\n",
      "--------------------\n",
      "token 到 index的映射:\n",
      "<unk>: 0\n",
      "<pad>: 1\n",
      "<bos>: 2\n",
      "<eos>: 3\n",
      "学习: 4\n",
      "我: 5\n",
      "爱: 6\n",
      "使: 7\n",
      "快乐: 8\n",
      "深度: 9\n",
      "很: 10\n",
      "有趣: 11\n",
      "--------------------\n",
      "example_tokens[0] 转换为index: [5, 6, 4]\n"
     ]
    }
   ],
   "source": [
    "example_tokens = [[\"我\", \"爱\", \"学习\"], [\"学习\", \"使\", \"我\", \"快乐\"], [\"深度\", \"学习\", \"很\", \"有趣\"]]\n",
    "example_vocab = Vocab(example_tokens)\n",
    "print(f\"vocab 大小: {len(example_vocab)}\")\n",
    "print(\"-\" * 20)\n",
    "print(\"token 到 index的映射:\")\n",
    "for token, idx in example_vocab.token2idx.items():\n",
    "    print(f\"{token}: {idx}\")\n",
    "print(\"-\" * 20)\n",
    "print(f\"example_tokens[0] 转换为index: {example_vocab[example_tokens[0]]}\")"
   ]
  },
  {
   "cell_type": "markdown",
   "id": "cef535b0",
   "metadata": {
    "lines_to_next_cell": 2
   },
   "source": [
    "### 2.2 生成数据集\n",
    "\n",
    "我们要对数据先进行以下预处理：\n",
    "\n",
    "1. **添加特殊标记（Adding Special Tokens）**：在输入序列的开头和末尾添加特殊标记，如开始标记（`<bos>`）和结束标记（`<eos>`），以及填充标记（`<pad>`）等。这些标记有助于模型更好地理解输入序列的边界和结构。\n",
    "\n",
    "2. **数据向量化（Vectorization）**：将文本数据转换为模型可以处理的数值张量形式。\n",
    "\n",
    "3. **填充和截断（Padding and Truncation）**：RNN 模型对于输入序列的长度通常是固定的，因此需要对输入序列进行填充（padding）或截断（truncation），使得所有序列具有相同的长度。"
   ]
  },
  {
   "cell_type": "code",
   "execution_count": 6,
   "id": "08d92e33",
   "metadata": {},
   "outputs": [],
   "source": [
    "def preprocess_sentence(sentence, vocab, max_len):\n",
    "    # 1. 添加特殊符号\n",
    "    sentence = [\"<bos>\"] + sentence + [\"<eos>\"]\n",
    "    # 2. 将词汇转换为索引\n",
    "    indices = vocab[sentence]\n",
    "    # 3. 将索引转换为张量\n",
    "    indices = torch.tensor(indices)\n",
    "    # 4. 填充PAD\n",
    "    if len(indices) > max_len:\n",
    "        indices = indices[:max_len]\n",
    "    else:\n",
    "        pad_size = max_len - len(indices)\n",
    "        indices = F.pad(indices, (0, pad_size), value=vocab[\"<pad>\"])\n",
    "    return indices\n",
    "\n",
    "\n",
    "class Math23kDataset(Dataset):\n",
    "    def __init__(self, problems, equations, src_vocab, tgt_vocab):\n",
    "        src_max_len, tgt_max_len = 120, 50\n",
    "        src_data = [preprocess_sentence(sentence, src_vocab, src_max_len) for sentence in problems]\n",
    "        tgt_data = [preprocess_sentence(sentence, tgt_vocab, tgt_max_len) for sentence in equations]\n",
    "        self.src_data = torch.stack(src_data).to(DEVICE)\n",
    "        self.tgt_data = torch.stack(tgt_data).to(DEVICE)\n",
    "\n",
    "    def __len__(self):\n",
    "        return len(self.src_data)\n",
    "\n",
    "    def __getitem__(self, idx):\n",
    "        return self.src_data[idx], self.tgt_data[idx]\n",
    "\n",
    "\n",
    "train_dataset = Math23kDataset(train_problems, train_equations, src_vocab, tgt_vocab)\n",
    "test_dataset = Math23kDataset(test_problems, test_equations, src_vocab, tgt_vocab)"
   ]
  },
  {
   "cell_type": "code",
   "execution_count": 7,
   "id": "44972872",
   "metadata": {},
   "outputs": [
    {
     "name": "stdout",
     "output_type": "stream",
     "text": [
      "src example: tensor([  2, 207, 354, 212,   5, 469,   6,   4,  55, 207, 206,   7,   4, 225,\n",
      "        207,  15,  78,   5,  11,  54,  10,  71, 207,  19,  10,   3,   1,   1,\n",
      "          1,   1,   1,   1,   1,   1,   1,   1,   1,   1,   1,   1,   1,   1,\n",
      "          1,   1,   1,   1,   1,   1,   1,   1,   1,   1,   1,   1,   1,   1,\n",
      "          1,   1,   1,   1,   1,   1,   1,   1,   1,   1,   1,   1,   1,   1,\n",
      "          1,   1,   1,   1,   1,   1,   1,   1,   1,   1,   1,   1,   1,   1,\n",
      "          1,   1,   1,   1,   1,   1,   1,   1,   1,   1,   1,   1,   1,   1,\n",
      "          1,   1,   1,   1,   1,   1,   1,   1,   1,   1,   1,   1,   1,   1,\n",
      "          1,   1,   1,   1,   1,   1,   1,   1], device='cuda:0')\n",
      "src text: <bos> 甲数 除以 乙数 的 商是 temp_a ， 如果 甲数 增加 temp_b ， 则 甲数 是 乙 的 temp_c 倍 ． 原来 甲数 = ． <eos> <pad> <pad> <pad> <pad> <pad> <pad> <pad> <pad> <pad> <pad> <pad> <pad> <pad> <pad> <pad> <pad> <pad> <pad> <pad> <pad> <pad> <pad> <pad> <pad> <pad> <pad> <pad> <pad> <pad> <pad> <pad> <pad> <pad> <pad> <pad> <pad> <pad> <pad> <pad> <pad> <pad> <pad> <pad> <pad> <pad> <pad> <pad> <pad> <pad> <pad> <pad> <pad> <pad> <pad> <pad> <pad> <pad> <pad> <pad> <pad> <pad> <pad> <pad> <pad> <pad> <pad> <pad> <pad> <pad> <pad> <pad> <pad> <pad> <pad> <pad> <pad> <pad> <pad> <pad> <pad> <pad> <pad> <pad> <pad> <pad> <pad> <pad> <pad> <pad> <pad> <pad> <pad> <pad> <pad>\n",
      "--------------------\n",
      "tgt example: tensor([ 2,  5,  6,  7, 10, 11,  4,  8,  9,  4,  3,  1,  1,  1,  1,  1,  1,  1,\n",
      "         1,  1,  1,  1,  1,  1,  1,  1,  1,  1,  1,  1,  1,  1,  1,  1,  1,  1,\n",
      "         1,  1,  1,  1,  1,  1,  1,  1,  1,  1,  1,  1,  1,  1],\n",
      "       device='cuda:0')\n",
      "tgt text: <bos> temp_b / ( temp_c - temp_a ) * temp_a <eos> <pad> <pad> <pad> <pad> <pad> <pad> <pad> <pad> <pad> <pad> <pad> <pad> <pad> <pad> <pad> <pad> <pad> <pad> <pad> <pad> <pad> <pad> <pad> <pad> <pad> <pad> <pad> <pad> <pad> <pad> <pad> <pad> <pad> <pad> <pad> <pad> <pad> <pad> <pad>\n"
     ]
    }
   ],
   "source": [
    "src_example, tgt_example = train_dataset[0]\n",
    "print(\"src example:\", src_example)\n",
    "print(\"src text:\", \" \".join(src_vocab.to_tokens(src_example.tolist())))\n",
    "print(\"-\" * 20)\n",
    "print(\"tgt example:\", tgt_example)\n",
    "print(\"tgt text:\", \" \".join(tgt_vocab.to_tokens(tgt_example.tolist())))"
   ]
  },
  {
   "cell_type": "markdown",
   "id": "d7efb821",
   "metadata": {},
   "source": [
    "## 3. 构建基于 RNN 的 MWP模型\n"
   ]
  },
  {
   "cell_type": "code",
   "execution_count": 8,
   "id": "404e49eb",
   "metadata": {},
   "outputs": [],
   "source": [
    "class Encoder(nn.Module):\n",
    "    def __init__(self, vocab_size, embed_size, hidden_size=256, num_layers=2, dropout=0.1):\n",
    "        super().__init__()\n",
    "        self.emebdding = nn.Embedding(vocab_size, embed_size, padding_idx=PAD_IDX)\n",
    "        self.rnn = nn.RNN(embed_size, hidden_size, num_layers=num_layers, dropout=dropout, batch_first=True)\n",
    "\n",
    "    def forward(self, encoder_input):\n",
    "        encoder_input = self.emebdding(encoder_input)\n",
    "        _, h_n = self.rnn(encoder_input)\n",
    "        return h_n\n",
    "\n",
    "\n",
    "class Decoder(nn.Module):\n",
    "    def __init__(self, vocab_size, embed_size, hidden_size=256, num_layers=2, dropout=0.1):\n",
    "        super().__init__()\n",
    "        self.embedding = nn.Embedding(vocab_size, embed_size, padding_idx=PAD_IDX)\n",
    "        self.rnn = nn.RNN(\n",
    "            embed_size + hidden_size, hidden_size, num_layers=num_layers, dropout=dropout, batch_first=True\n",
    "        )\n",
    "        self.out = nn.Linear(hidden_size, vocab_size)\n",
    "\n",
    "    def forward(self, encoder_output, decoder_input):\n",
    "        h_n = encoder_output\n",
    "        decoder_input = self.embedding(decoder_input)\n",
    "        context = h_n[-1]  # (batch_size, hidden_size)\n",
    "        context = context.unsqueeze(1).expand(-1, decoder_input.size(1), -1)  # (batch_size, seq_len, hidden_size)\n",
    "        output, h_n = self.rnn(torch.cat((decoder_input, context), -1), h_n)\n",
    "        logits = self.out(output)  # (batch_size, seq_len, vocab_size)\n",
    "        return logits, h_n\n",
    "\n",
    "\n",
    "class Model(nn.Module):\n",
    "    def __init__(self, encoder, decoder):\n",
    "        super().__init__()\n",
    "        self.encoder = encoder\n",
    "        self.decoder = decoder\n",
    "\n",
    "    def forward(self, encoder_input, decoder_input):\n",
    "        return self.decoder(self.encoder(encoder_input), decoder_input)"
   ]
  },
  {
   "cell_type": "markdown",
   "id": "a9e5f2ad",
   "metadata": {},
   "source": [
    "## 4. 训练模型"
   ]
  },
  {
   "cell_type": "markdown",
   "id": "49c443b7",
   "metadata": {},
   "source": [
    "### 4.1 定义训练函数和评估函数"
   ]
  },
  {
   "cell_type": "code",
   "execution_count": 9,
   "id": "5dd62599",
   "metadata": {},
   "outputs": [],
   "source": [
    "# 训练和评估函数\n",
    "def train_epoch(model, train_loader, optimizer, loss_fn):\n",
    "    model.train()\n",
    "    losses = 0\n",
    "    for src, tgt in train_loader:\n",
    "        src, tgt = src.to(DEVICE), tgt.to(DEVICE)\n",
    "        tgt_input = tgt[:, :-1]\n",
    "\n",
    "        logits, _ = model(src, tgt_input)\n",
    "        optimizer.zero_grad()\n",
    "        tgt_out = tgt[:, 1:]\n",
    "        loss = loss_fn(logits.reshape(-1, logits.shape[-1]), tgt_out.reshape(-1))\n",
    "        loss.backward()\n",
    "\n",
    "        torch.nn.utils.clip_grad_norm_(model.parameters(), 1)\n",
    "        optimizer.step()\n",
    "        losses += loss.item()\n",
    "\n",
    "    return losses / len(train_loader)\n",
    "\n",
    "\n",
    "def evaluate(model, val_loader, loss_fn):\n",
    "    model.eval()\n",
    "    losses = 0\n",
    "    for src, tgt in val_loader:\n",
    "        src, tgt = src.to(DEVICE), tgt.to(DEVICE)\n",
    "        tgt_input = tgt[:, :-1]\n",
    "\n",
    "        logits, _ = model(src, tgt_input)\n",
    "\n",
    "        tgt_out = tgt[:, 1:]\n",
    "        loss = loss_fn(logits.reshape(-1, logits.shape[-1]), tgt_out.reshape(-1))\n",
    "        losses += loss.item()\n",
    "\n",
    "    return losses / len(val_loader)"
   ]
  },
  {
   "cell_type": "markdown",
   "id": "4c9b51e1",
   "metadata": {},
   "source": [
    "### 4.2 设置超参数和初始化模型\n",
    "\n",
    "我们将定义模型、优化器和损失函数，并设置训练所需的参数。"
   ]
  },
  {
   "cell_type": "code",
   "execution_count": 10,
   "id": "32660d5d",
   "metadata": {},
   "outputs": [
    {
     "name": "stdout",
     "output_type": "stream",
     "text": [
      "Total params: 4.562974 M\n"
     ]
    }
   ],
   "source": [
    "# 模型超参数\n",
    "SRC_VOCAB_SIZE = len(src_vocab)\n",
    "TGT_VOCAB_SIZE = len(tgt_vocab)\n",
    "EMB_SIZE = 256\n",
    "\n",
    "BATCH_SIZE = 128\n",
    "LEARNING_RATE = 0.002\n",
    "\n",
    "encoder = Encoder(vocab_size=len(src_vocab), embed_size=EMB_SIZE)\n",
    "decoder = Decoder(vocab_size=len(tgt_vocab), embed_size=EMB_SIZE)\n",
    "model = Model(encoder, decoder)\n",
    "\n",
    "total_params = sum(p.numel() for p in model.parameters())\n",
    "print(\"Total params:\", total_params / 1e6, \"M\")\n",
    "\n",
    "model = model.to(DEVICE)\n",
    "\n",
    "criterion = nn.CrossEntropyLoss(ignore_index=tgt_vocab[\"<pad>\"])\n",
    "optimizer = torch.optim.Adam(model.parameters(), lr=LEARNING_RATE)"
   ]
  },
  {
   "cell_type": "markdown",
   "id": "a31595e5",
   "metadata": {},
   "source": [
    "### 4.3 开始训练"
   ]
  },
  {
   "cell_type": "code",
   "execution_count": 11,
   "id": "6aea8ebb",
   "metadata": {},
   "outputs": [
    {
     "name": "stdout",
     "output_type": "stream",
     "text": [
      "Epoch: 0, Train loss: 1.128, Val loss: 1.024, Epoch time = 1.914s\n",
      "Epoch: 1, Train loss: 0.999, Val loss: 0.985, Epoch time = 1.812s\n",
      "Epoch: 2, Train loss: 0.971, Val loss: 0.965, Epoch time = 1.811s\n",
      "Epoch: 3, Train loss: 0.953, Val loss: 0.959, Epoch time = 1.811s\n",
      "Epoch: 4, Train loss: 0.944, Val loss: 0.945, Epoch time = 1.813s\n",
      "Epoch: 5, Train loss: 0.934, Val loss: 0.942, Epoch time = 1.815s\n",
      "Epoch: 6, Train loss: 0.928, Val loss: 0.941, Epoch time = 1.813s\n",
      "Epoch: 7, Train loss: 0.922, Val loss: 0.941, Epoch time = 1.814s\n",
      "Epoch: 8, Train loss: 0.920, Val loss: 0.939, Epoch time = 1.812s\n",
      "Epoch: 9, Train loss: 0.915, Val loss: 0.945, Epoch time = 1.813s\n",
      "Epoch: 10, Train loss: 0.911, Val loss: 0.942, Epoch time = 1.813s\n",
      "Epoch: 11, Train loss: 0.909, Val loss: 0.937, Epoch time = 1.814s\n",
      "Epoch: 12, Train loss: 0.907, Val loss: 0.932, Epoch time = 1.812s\n",
      "Epoch: 13, Train loss: 0.905, Val loss: 0.938, Epoch time = 1.812s\n",
      "Epoch: 14, Train loss: 0.904, Val loss: 0.934, Epoch time = 1.812s\n",
      "Epoch: 15, Train loss: 0.905, Val loss: 0.934, Epoch time = 1.812s\n",
      "Epoch: 16, Train loss: 0.903, Val loss: 0.927, Epoch time = 1.813s\n",
      "Epoch: 17, Train loss: 0.898, Val loss: 0.935, Epoch time = 1.813s\n",
      "Epoch: 18, Train loss: 0.897, Val loss: 0.929, Epoch time = 1.813s\n",
      "Epoch: 19, Train loss: 0.897, Val loss: 0.927, Epoch time = 1.813s\n",
      "Epoch: 20, Train loss: 0.895, Val loss: 0.926, Epoch time = 1.813s\n",
      "Epoch: 21, Train loss: 0.893, Val loss: 0.927, Epoch time = 1.813s\n",
      "Epoch: 22, Train loss: 0.894, Val loss: 0.925, Epoch time = 1.813s\n",
      "Epoch: 23, Train loss: 0.892, Val loss: 0.928, Epoch time = 1.812s\n",
      "Epoch: 24, Train loss: 0.893, Val loss: 0.931, Epoch time = 1.813s\n",
      "Epoch: 25, Train loss: 0.893, Val loss: 0.928, Epoch time = 1.813s\n",
      "Epoch: 26, Train loss: 0.893, Val loss: 0.939, Epoch time = 1.812s\n",
      "Epoch: 27, Train loss: 0.896, Val loss: 0.952, Epoch time = 1.812s\n",
      "Epoch: 28, Train loss: 0.897, Val loss: 0.929, Epoch time = 1.814s\n",
      "Epoch: 29, Train loss: 0.892, Val loss: 0.930, Epoch time = 1.812s\n"
     ]
    }
   ],
   "source": [
    "from timeit import default_timer as timer\n",
    "from torch.utils.data import DataLoader\n",
    "\n",
    "NUM_EPOCHS = 30\n",
    "\n",
    "train_loader = DataLoader(train_dataset, batch_size=BATCH_SIZE, shuffle=True)\n",
    "val_loader = DataLoader(test_dataset, batch_size=BATCH_SIZE)\n",
    "\n",
    "train_loss_list, valid_loss_list = [], []\n",
    "\n",
    "for epoch in range(NUM_EPOCHS):\n",
    "    start_time = timer()\n",
    "    train_loss = train_epoch(model, train_loader, optimizer, criterion)\n",
    "    val_loss = evaluate(model, val_loader, criterion)\n",
    "    end_time = timer()\n",
    "    train_loss_list.append(train_loss)\n",
    "    valid_loss_list.append(val_loss)\n",
    "    print(\n",
    "        (\n",
    "            f\"Epoch: {epoch}, Train loss: {train_loss:.3f}, Val loss: {val_loss:.3f}, \"\n",
    "            f\"Epoch time = {(end_time - start_time):.3f}s\"\n",
    "        )\n",
    "    )\n",
    "\n",
    "# 保存模型\n",
    "torch.save(model.state_dict(), \"rnn_model.pth\")"
   ]
  },
  {
   "cell_type": "code",
   "execution_count": 12,
   "id": "68ec1b91",
   "metadata": {},
   "outputs": [
    {
     "data": {
      "image/png": "[encoded data removed]",
      "text/plain": [
       "<Figure size 1000x700 with 1 Axes>"
      ]
     },
     "metadata": {
      "image/png": {
       "height": 602,
       "width": 855
      }
     },
     "output_type": "display_data"
    }
   ],
   "source": [
    "import matplotlib.pyplot as plt\n",
    "%config InlineBackend.figure_format='retina'\n",
    "plt.figure(figsize=(10, 7))\n",
    "plt.plot(train_loss_list, color=\"blue\", linestyle=\"-\", label=\"train loss\")\n",
    "plt.plot(valid_loss_list, color=\"red\", linestyle=\"-\", label=\"valid loss\")\n",
    "plt.xlabel(\"Epochs\")\n",
    "plt.ylabel(\"Loss\")\n",
    "plt.legend()\n",
    "plt.show()"
   ]
  },
  {
   "cell_type": "markdown",
   "id": "a099cfa1",
   "metadata": {},
   "source": [
    "## 5. 模型评估\n",
    "\n",
    "在这一部分，我们将使用测试集上的方程准确率对模型进行评估。"
   ]
  },
  {
   "cell_type": "code",
   "execution_count": 13,
   "id": "4ed945b2",
   "metadata": {},
   "outputs": [],
   "source": [
    "def equation_accuracy(preds, tgts):\n",
    "    correct = 0\n",
    "    for tgt, pred in zip(tgts, preds):\n",
    "        if tgt == pred:\n",
    "            correct += 1\n",
    "    return correct / len(tgts)\n",
    "\n",
    "\n",
    "@torch.no_grad()\n",
    "def predict_seq2seq(model, src, max_len, start_symbol):\n",
    "    src = src.to(DEVICE)\n",
    "\n",
    "    pred_seq = [start_symbol]\n",
    "    memory = model.encoder(src)\n",
    "\n",
    "    for i in range(max_len - 1):\n",
    "        y = torch.tensor(pred_seq[-1]).reshape(1, 1).to(DEVICE)  # (batch_size, seq_len)=(1, 1)\n",
    "        out, memory = model.decoder(memory, y)\n",
    "        # out shape: (batch_size, seq_len, tgt_vocab_size)=(1, 1, tgt_vocab_size)\n",
    "        _, next_word = torch.max(out.squeeze(), dim=-1)\n",
    "        next_word = next_word.item()\n",
    "        pred_seq.append(next_word)\n",
    "        if next_word == tgt_vocab[\"<eos>\"]:\n",
    "            break\n",
    "    return pred_seq\n",
    "\n",
    "\n",
    "@torch.no_grad()\n",
    "def inference(model, problem):\n",
    "    model.eval()\n",
    "    src = preprocess_sentence(problem, src_vocab, 120)\n",
    "    src = src.unsqueeze(0)\n",
    "    tgt_tokens = predict_seq2seq(model, src, max_len=50, start_symbol=tgt_vocab[\"<bos>\"])\n",
    "    return \"\".join(tgt_vocab.to_tokens(tgt_tokens)).replace(\"<bos>\", \"\").replace(\"<eos>\", \"\")"
   ]
  },
  {
   "cell_type": "code",
   "execution_count": 14,
   "id": "e31fd340",
   "metadata": {},
   "outputs": [
    {
     "name": "stdout",
     "output_type": "stream",
     "text": [
      "问题 1: 在一正方形花池的四周栽了temp_a棵柳树，每两棵柳树之间的间隔是temp_b米，这个正方形的周长=多少米？\n",
      "真实方程: temp_a*temp_b\n",
      "预测方程: temp_a*temp_b\n",
      "--------------------\n",
      "问题 2: 张明有temp_a元钱，买书用去temp_b%，买文具的钱是买书的temp_c%．买文具用去多少元？\n",
      "真实方程: temp_a*temp_b*temp_c\n",
      "预测方程: temp_a*temp_b\n",
      "--------------------\n",
      "问题 3: 一个工厂要生产temp_a个零件，前temp_b天生产了temp_c个，剩下的要在temp_d天内完成，平均每天生产多少个？\n",
      "真实方程: (temp_a-temp_c)/temp_d\n",
      "预测方程: temp_a*temp_b\n",
      "--------------------\n",
      "问题 4: 一本字典定价temp_a元，temp_b出售后还赚temp_c%，这本字典进价=多少元．\n",
      "真实方程: temp_a*temp_b/(1+temp_c)\n",
      "预测方程: temp_a*temp_b\n",
      "--------------------\n",
      "问题 5: 修一段长temp_a米的路，前temp_b小时共修了temp_c米，剩下的每小时修temp_d米，还要几小时才能修完？\n",
      "真实方程: (temp_a-temp_c)/temp_d\n",
      "预测方程: temp_a*temp_b\n",
      "--------------------\n"
     ]
    }
   ],
   "source": [
    "for i in range(5):\n",
    "    problem, equation = test_problems[i], test_equations[i]\n",
    "    print(f\"问题 {i+1}: {''.join(problem)}\")\n",
    "    print(f\"真实方程: {''.join(equation)}\")\n",
    "    print(f\"预测方程: {inference(model, problem)}\")\n",
    "    print(\"-\" * 20)"
   ]
  },
  {
   "cell_type": "code",
   "execution_count": 15,
   "id": "d0dc7ad5",
   "metadata": {},
   "outputs": [
    {
     "name": "stderr",
     "output_type": "stream",
     "text": [
      "100%|██████████| 1000/1000 [00:01<00:00, 883.33it/s]\n"
     ]
    }
   ],
   "source": [
    "from tqdm import tqdm\n",
    "\n",
    "test_loader = DataLoader(test_dataset, batch_size=1)\n",
    "preds, tgts = [], []\n",
    "for src, tgt in tqdm(test_loader):\n",
    "    pred = predict_seq2seq(model, src, max_len=50, start_symbol=tgt_vocab[\"<bos>\"])\n",
    "    pred = tgt_vocab.to_tokens(pred)\n",
    "    preds.append(\"\".join(pred).replace(\"<bos>\", \"\").replace(\"<eos>\", \"\").replace(\"<pad>\", \"\"))\n",
    "    tgts.append(\n",
    "        \"\".join(tgt_vocab.to_tokens(tgt[0].tolist())).replace(\"<bos>\", \"\").replace(\"<eos>\", \"\").replace(\"<pad>\", \"\")\n",
    "    )\n",
    "acc = equation_accuracy(preds, tgts)"
   ]
  },
  {
   "cell_type": "code",
   "execution_count": 16,
   "id": "68903156",
   "metadata": {},
   "outputs": [
    {
     "name": "stdout",
     "output_type": "stream",
     "text": [
      "方程准确率: 0.054\n"
     ]
    }
   ],
   "source": [
    "print(f\"方程准确率: {acc:.3f}\")"
   ]
  }
 ],
 "metadata": {
  "jupytext": {
   "cell_metadata_filter": "-all",
   "main_language": "python",
   "notebook_metadata_filter": "-all"
  },
  "kernelspec": {
   "display_name": "dl",
   "language": "python",
   "name": "python3"
  },
  "language_info": {
   "codemirror_mode": {
    "name": "ipython",
    "version": 3
   },
   "file_extension": ".py",
   "mimetype": "text/x-python",
   "name": "python",
   "nbconvert_exporter": "python",
   "pygments_lexer": "ipython3",
   "version": "3.11.8"
  }
 },
 "nbformat": 4,
 "nbformat_minor": 5
}
