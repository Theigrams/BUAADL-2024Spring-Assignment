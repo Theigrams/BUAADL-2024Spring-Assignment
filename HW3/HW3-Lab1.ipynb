{
 "cells": [
  {
   "cell_type": "markdown",
   "metadata": {},
   "source": [
    "# HW3-Lab1 - RNN应用 - 快递信息提取\n",
    "\n",
    "本项目基于 [PaddlePaddle 教程](https://aistudio.baidu.com/projectdetail/1317771) 进行修改。\n",
    "\n",
    "\n",
    "## Part A. 背景介绍\n",
    "\n",
    "### A.1 快递单信息抽取任务\n",
    "对于一张快递单，例如“张三 18625584663 广东省 深圳市 南山区 学府路东 百度国际大厦”，我们的目的就是识别出其中的“张三”为人名（用符号 P 表示），“18625584663”为电话名（用符号 T 表示），“广东省 深圳市 南山区 百度国际大厦”分别是 1-4 级的地址（分别用 A1~A4 表示，可以释义为省、市、区、街道）。\n",
    "\n",
    "这是一个典型的命名实体识别（Named Entity Recognition，NER）场景，各实体类型及相应符号表示见下表：\n",
    "\n",
    "| 抽取字段 | 简称 | 抽取结果 |\n",
    "| -------- | -------- | -------- |\n",
    "| 姓名     | P     | 张三     |\n",
    "| 电话     | T     | 18625584663     |\n",
    "| 省     | A1     | 广东省     |\n",
    "| 市     | A2    | 深圳市    |\n",
    "| 区 | A3 | 南山区 |\n",
    "|详细地址| A4 | 百度国际大厦 |\n",
    "\n",
    "### A.2 序列标注模型\n",
    "\n",
    "我们可以用序列标注模型来解决快递单的信息抽取任务，下面具体介绍一下序列标注模型。\n",
    "\n",
    "\n",
    "在序列标注任务中，一般会定义一个标签集合，来表示所有可能取到的预测结果。在本案例中，针对需要被抽取的“姓名、电话、省、市、区、详细地址”等实体，标签集合可以定义为：\n",
    "\n",
    "label = {P-B, P-I, T-B, T-I, A1-B, A1-I, A2-B, A2-I, A3-B, A3-I, A4-B, A4-I, O}\n",
    "\n",
    "每个标签的定义分别为：\n",
    "\n",
    "| 标签 | 定义 |\n",
    "| -------- | -------- |\n",
    "| P-B | 姓名起始位置 |\n",
    "| P-I | 姓名中间位置或结束位置 |\n",
    "| T-B | 电话起始位置 |\n",
    "| T-I | 电话中间位置或结束位置 |\n",
    "| A1-B | 省份起始位置 |\n",
    "| A1-I | 省份中间位置或结束位置 |\n",
    "| A2-B | 城市起始位置 |\n",
    "| A2-I | 城市中间位置或结束位置 |\n",
    "| A3-B | 县区起始位置 |\n",
    "| A3-I | 县区中间位置或结束位置 |\n",
    "| A4-B | 详细地址起始位置 |\n",
    "| A4-I | 详细地址中间位置或结束位置 |\n",
    "| O | 不关注的字 |\n",
    "\n",
    "注意每个标签的结果只有 B、I、O 三种，这种标签的定义方式叫做 BIO（Begin-Inside-Outside）体系。其中 B 表示一个标签类别的开头，比如 P-B 指的是姓名的开头；相应的，I 表示一个标签的延续。\n",
    "\n",
    "对于句子“张三 18625584663 广东省 深圳市 南山区 百度国际大厦”，每个汉字及对应标签为：\n",
    "\n",
    "\n",
    "| 张 | 三 | 1 | 8 | 6 | 2 | 5 | 5 | 8 | 4 | 6 | 6 | 3 | 广 | 东 | 省 |\n",
    "|--- |---|---|---|---|---|---|---|---|---|---|---|--- |---|---|---|\n",
    "| P-B | P-I | T-B | T-I | T-I | T-I | T-I | T-I | T-I | T-I | T-I | T-I | T-I | A1-B | A1-I | A1-I |\n",
    "| 深 | 圳 | 市 | 南 | 山 | 区 | 百 | 度 | 国 | 际 | 大 | 厦 |\n",
    "| A2-B | A2-I | A2-I | A3-B | A3-I | A3-I | A4-B | A4-I | A4-I | A4-I | A4-I | A4-I |\n",
    "\n",
    "\n",
    "注意到“张“，”三”在这里表示成了“P-B” 和 “P-I”，反过来讲，得到“P-B”和“P-I”这样的序列，也可以合并成“P” 这个标签。这样重新组合后可以得到以下信息抽取结果：\n",
    "\n",
    "| 张三 | 18625584663 | 广东省 | 深圳市 | 南山区 | 百度国际大厦 |\n",
    "|:--:|:--:|:--:|:--:|:--:|:--:|\n",
    "| P | T | A1 | A2 | A3 | A4 |"
   ]
  },
  {
   "cell_type": "markdown",
   "metadata": {},
   "source": [
    "### A.3 信息抽取演示\n",
    "\n",
    "下面我们通过一个例子来演示信息抽取的过程：\n",
    "- 输入：\"云南省怒江傈僳族自治州贡山独龙族怒族自治县丙中洛镇丙中洛街头荣维维18611886869\"\n",
    "- 生成标签序列：['A1-B', 'A1-I', 'A1-I', 'A2-B', 'A2-I', 'A2-I', 'A2-I', 'A2-I', 'A2-I', 'A2-I', 'A2-I', 'A3-B', 'A3-I', 'A3-I', 'A3-I', 'A3-I', 'A3-I', 'A3-I', 'A3-I', 'A3-I', 'A3-I', 'A4-B', 'A4-I', 'A4-I', 'A4-I', 'A4-I', 'A4-I', 'A4-I', 'A4-I', 'A4-I', 'P-B', 'P-I', 'P-I', 'T-B', 'T-I', 'T-I', 'T-I', 'T-I', 'T-I', 'T-I', 'T-I', 'T-I', 'T-I', 'T-I']\n",
    "- 获取抽取后的结构化信息"
   ]
  },
  {
   "cell_type": "code",
   "execution_count": 1,
   "metadata": {},
   "outputs": [
    {
     "name": "stdout",
     "output_type": "stream",
     "text": [
      "{'姓名': '荣维维', '电话': '18611886869', '省份': '云南省', '城市': '怒江傈僳族自治州', '县区': '贡山独龙族怒族自治县', '详细地址': '丙中洛镇丙中洛街头'}\n"
     ]
    }
   ],
   "source": [
    "def extract_information(text, tags):\n",
    "    extracted_info = {\"P\": \"\", \"T\": \"\", \"A1\": \"\", \"A2\": \"\", \"A3\": \"\", \"A4\": \"\"}\n",
    "    tag_to_chinese = {\"P\": \"姓名\", \"T\": \"电话\", \"A1\": \"省份\", \"A2\": \"城市\", \"A3\": \"县区\", \"A4\": \"详细地址\"}\n",
    "\n",
    "    for char, tag in zip(text, tags):\n",
    "        tag_key = tag.split(\"-\")[0]  # 获取标签的主要部分（例如，从P-B获取P）\n",
    "        if tag_key in extracted_info:\n",
    "            extracted_info[tag_key] += \"\".join(char)\n",
    "    info = {tag_to_chinese[k]: v for k, v in extracted_info.items()}\n",
    "    return info\n",
    "\n",
    "\n",
    "text_test = \"云南省怒江傈僳族自治州贡山独龙族怒族自治县丙中洛镇丙中洛街头荣维维18611886869\"\n",
    "# fmt: off\n",
    "tag_test = ['A1-B', 'A1-I', 'A1-I', 'A2-B', 'A2-I', 'A2-I', 'A2-I', 'A2-I', 'A2-I', 'A2-I', 'A2-I', 'A3-B', 'A3-I', 'A3-I', 'A3-I', 'A3-I', 'A3-I', 'A3-I', 'A3-I', 'A3-I', 'A3-I', 'A4-B', 'A4-I', 'A4-I', 'A4-I', 'A4-I', 'A4-I', 'A4-I', 'A4-I', 'A4-I', 'P-B', 'P-I', 'P-I', 'T-B', 'T-I', 'T-I', 'T-I', 'T-I', 'T-I', 'T-I', 'T-I', 'T-I', 'T-I', 'T-I']\n",
    "# fmt: on\n",
    "info = extract_information(text_test, tag_test)\n",
    "print(info)"
   ]
  },
  {
   "cell_type": "markdown",
   "metadata": {},
   "source": [
    "## Part B. 数据处理与加载\n",
    "\n",
    "### B.1 数据准备\n",
    "如果在 Kaggle notebook中，可以通过以下代码下载并解压数据集：\n",
    "\n",
    "```bash\n",
    "wget https://bj.bcebos.com/paddlenlp/paddlenlp/datasets/waybill.tar.gz\n",
    "tar -zxvf waybill.tar.gz\n",
    "```\n",
    "\n",
    "解压后得到的数据目录结构如下:\n",
    "```bash\n",
    "├── data\n",
    "│   ├── train.txt   # 训练集\n",
    "│   ├── test.txt    # 测试集\n",
    "│   ├── dev.txt     # 验证集\n",
    "│   ├── word.dic    # 文本词典\n",
    "│   └── tag.dic     # label词典\n",
    "```\n"
   ]
  },
  {
   "cell_type": "markdown",
   "metadata": {},
   "source": [
    "### B.2 创建词汇表\n",
    "\n",
    "我们首先需要构建一个Vocab类，将每个字映射到一个唯一的 ID。\n",
    "\n",
    "如果`word.dic`中没有这个字，则将其映射为 out-of-vocabulary `\"OOV\"`。\n",
    "如果`tag.dic`中没有这个标签，则将其映射为 `\"O\"`。"
   ]
  },
  {
   "cell_type": "code",
   "execution_count": 2,
   "metadata": {},
   "outputs": [],
   "source": [
    "def load_dict(dict_path):\n",
    "    vocab = {}\n",
    "    i = 0\n",
    "    with open(dict_path, \"r\", encoding=\"utf-8\") as fin:\n",
    "        for line in fin:\n",
    "            key = line.strip(\"\\n\")\n",
    "            vocab[key] = i\n",
    "            i += 1\n",
    "    return vocab\n",
    "\n",
    "\n",
    "class Vocab:\n",
    "    def __init__(self, vocab_path, oov_token=\"OOV\"):\n",
    "        self.word2id = load_dict(vocab_path)\n",
    "        self.id2word = {v: k for k, v in self.word2id.items()}\n",
    "        self.vocab_size = len(self.word2id)\n",
    "        # out-of-vocabulary token\n",
    "        self.oov_token = oov_token\n",
    "\n",
    "    def word_to_id(self, word):\n",
    "        # TODO: 将 word 转换为其对应的 ID, 如果 word 不在词典中, 则返回 oov_token 对应的ID\n",
    "        pass\n",
    "\n",
    "    def id_to_word(self, id):\n",
    "        return self.id2word[id]\n",
    "\n",
    "    def __len__(self):\n",
    "        return len(self.word2id)\n",
    "\n",
    "    def __call__(self, words):\n",
    "        return [self.word_to_id(word) for word in words]"
   ]
  },
  {
   "cell_type": "markdown",
   "metadata": {},
   "source": [
    "以下是使用示例和测试："
   ]
  },
  {
   "cell_type": "code",
   "execution_count": 3,
   "metadata": {},
   "outputs": [
    {
     "name": "stdout",
     "output_type": "stream",
     "text": [
      "[521, 100, 178, 1817]\n",
      "[521, 100, 178, 1817]\n",
      "[20939, 20939]\n"
     ]
    }
   ],
   "source": [
    "word_vocab = Vocab(\"data/word.dic\", \"OOV\")\n",
    "label_vocab = Vocab(\"data/tag.dic\", \"O\")\n",
    "\n",
    "print(word_vocab(\"黑龙江省\"))\n",
    "assert word_vocab(\"黑龙江省\") == [521, 100, 178, 1817]\n",
    "\n",
    "print(word_vocab([\"黑\", \"龙\", \"江\", \"省\"]))\n",
    "assert word_vocab([\"黑\", \"龙\", \"江\", \"省\"]) == [521, 100, 178, 1817]\n",
    "\n",
    "print(word_vocab([\"OOV\", \"黑龙江\"]))\n",
    "assert word_vocab([\"OOV\", \"黑龙江\"]) == [20939, 20939]"
   ]
  },
  {
   "cell_type": "code",
   "execution_count": 4,
   "metadata": {},
   "outputs": [
    {
     "name": "stdout",
     "output_type": "stream",
     "text": [
      "[0, 2]\n",
      "[12, 12]\n"
     ]
    }
   ],
   "source": [
    "print(label_vocab([\"P-B\", \"T-B\"]))\n",
    "assert label_vocab([\"P-B\", \"T-B\"]) == [0, 2]\n",
    "\n",
    "print(label_vocab([\"O\", \"TB\"]))\n",
    "assert label_vocab([\"O\", \"TB\"]) == [12, 12]"
   ]
  },
  {
   "cell_type": "markdown",
   "metadata": {},
   "source": [
    "### B.3 创建NER数据集\n",
    "\n",
    "我们这里用到 `train.txt`、`test.txt` 两个文件，分别创建训练集和测试集。\n",
    "\n",
    "txt文件中的第一行是 `text_a label`，中间的空格是制表符。\n",
    "从第二行开始，后面的每行数据都是由两列组成，以制表符分隔，第一列是 utf-8 编码的中文文本，第二列是对应序列标注的结果，中间每个字符用 `\\002` 分割。\n",
    "\n",
    "我们需要将这些文本数据转换为pytorch格式的tensor数据，以便后续训练使用，这一部分将在`NerDataset`类中实现。"
   ]
  },
  {
   "cell_type": "code",
   "execution_count": 5,
   "metadata": {},
   "outputs": [],
   "source": [
    "import torch\n",
    "from torch.utils.data import Dataset\n",
    "\n",
    "\n",
    "class NerDataset(Dataset):\n",
    "    def __init__(self, data_path, word_vocab: Vocab, label_vocab: Vocab):\n",
    "        self.word_vocab = word_vocab\n",
    "        self.label_vocab = label_vocab\n",
    "        self.word_ids = []\n",
    "        self.label_ids = []\n",
    "        self.read_data(data_path)\n",
    "\n",
    "    def read_data(self, path):\n",
    "        with open(path, \"r\", encoding=\"utf-8\") as fp:\n",
    "            next(fp)  # Skip the header line\n",
    "            for line in fp.readlines():\n",
    "                words, labels = line.strip(\"\\n\").split(\"\\t\")\n",
    "                words = words.split(\"\\002\")\n",
    "                labels = labels.split(\"\\002\")\n",
    "\n",
    "                # TODO: 使用 word_vocab 将 words 转换为 word_id, 类型为 torch.long\n",
    "                word_id = \n",
    "                # TODO: 使用 label_vocab 将 labels 转换为 label_id, 类型为 torch.long\n",
    "                label_id = \n",
    "\n",
    "                self.word_ids.append(word_id)\n",
    "                self.label_ids.append(label_id)\n",
    "\n",
    "    def __len__(self):\n",
    "        return len(self.word_ids)\n",
    "\n",
    "    def __getitem__(self, item):\n",
    "        return self.word_ids[item], self.label_ids[item], len(self.word_ids[item])"
   ]
  },
  {
   "cell_type": "code",
   "execution_count": 6,
   "metadata": {},
   "outputs": [
    {
     "name": "stdout",
     "output_type": "stream",
     "text": [
      "tensor([  12,   22,   27,   17,   24,   22,   22,   23,   12,   22,   21, 1566,\n",
      "         403,  443,  521,  100,  178, 1817,  732,  718,  404, 1503,  889,  137,\n",
      "        1628,  304, 1067,  183,  396,  234,  267, 1125])\n",
      "tensor([ 2,  3,  3,  3,  3,  3,  3,  3,  3,  3,  3,  0,  1,  1,  4,  5,  5,  5,\n",
      "         6,  7,  7,  7,  8,  9,  9, 10, 11, 11, 11, 11, 11, 11])\n",
      "32\n",
      "tensor([  12,   21,   24,   12,   12,   30,   21,   24,   27,   12,   30, 1573,\n",
      "        8248,  631])\n",
      "tensor([2, 3, 3, 3, 3, 3, 3, 3, 3, 3, 3, 0, 1, 1])\n",
      "14\n"
     ]
    }
   ],
   "source": [
    "eval_dataset = NerDataset(\"data/dev.txt\", word_vocab, label_vocab)\n",
    "\n",
    "word1, label1, seqlen1 = eval_dataset[1]\n",
    "print(word1)\n",
    "print(label1)\n",
    "print(seqlen1)\n",
    "assert (word1[0:10] == torch.tensor([12, 22, 27, 17, 24, 22, 22, 23, 12, 22], dtype=torch.long)).all()\n",
    "assert (label1[0:10] == torch.tensor([2, 3, 3, 3, 3, 3, 3, 3, 3, 3], dtype=torch.long)).all()\n",
    "assert seqlen1 == 32\n",
    "\n",
    "word2, label2, seqlen2 = eval_dataset[-1]\n",
    "print(word2)\n",
    "print(label2)\n",
    "print(seqlen2)\n",
    "assert (word2[0:10] == torch.tensor([12, 21, 24, 12, 12, 30, 21, 24, 27, 12], dtype=torch.long)).all()\n",
    "assert (label2[0:10] == torch.tensor([2, 3, 3, 3, 3, 3, 3, 3, 3, 3], dtype=torch.long)).all()\n",
    "assert seqlen2 == 14"
   ]
  },
  {
   "cell_type": "markdown",
   "metadata": {},
   "source": [
    "### B.4 创建DataLoader\n",
    "\n",
    "观察以上数据，我们可以发现一个问题：每个样本的长度是不一样的，这时候我们就需要对数据进行padding操作，使得每个batch中的样本长度一致。\n",
    "\n",
    "一种简单的方法是将所有样本都padding或截断到同样的长度，但是如果序列太长，会导致padding的部分过多，从而浪费计算资源。如果序列太短，又会导致部分信息的丢失。\n",
    "\n",
    "因此，一个更好的方法是动态padding，即每个batch中的样本长度不同，但是在一个batch内，将每个样本padding到该batch中的最大长度。\n",
    "\n",
    "这个操作可以通过`DataLoader`的`collate_fn`参数实现，对于word序列，我们填充 `word_vocab([\"OOV\"])`，对于label序列，我们填充 `label_vocab([\"O\"])`。"
   ]
  },
  {
   "cell_type": "code",
   "execution_count": 7,
   "metadata": {},
   "outputs": [
    {
     "name": "stdout",
     "output_type": "stream",
     "text": [
      "tensor([[ 1194,    73,   231,   102,   211,  1817,   560,   328,  3715,  1256,\n",
      "           478,   484,   737,   211,    68,  1161,    98,  1075,   348,   332,\n",
      "           183,    22,    30,  1162,    12,    23,    21,    12,    22,    22,\n",
      "            23,    24,    12,    24,    22, 20939, 20939, 20939, 20939, 20939],\n",
      "        [   12,    22,    27,    17,    24,    22,    22,    23,    12,    22,\n",
      "            21,  1566,   403,   443,   521,   100,   178,  1817,   732,   718,\n",
      "           404,  1503,   889,   137,  1628,   304,  1067,   183,   396,   234,\n",
      "           267,  1125, 20939, 20939, 20939, 20939, 20939, 20939, 20939, 20939],\n",
      "        [  585,   211,  1817,   188,   311,  1503,   607,  3237,  1628,   349,\n",
      "          1578,   183,    22,    12,  1162,   765,   465,   168,  1455,   267,\n",
      "          1125,    30,   600,    17,    12,   691,  2140,    83,   360,    12,\n",
      "            22,    24,     9,    12,    17,    24,    28,    21,    22,    23]])\n",
      "tensor([35, 32, 40])\n"
     ]
    }
   ],
   "source": [
    "import torch.nn as nn\n",
    "from torch.utils.data import DataLoader\n",
    "\n",
    "\n",
    "def collate_fn(batch):\n",
    "    words, labels, seqlens = zip(*batch)\n",
    "    words = nn.utils.rnn.pad_sequence(words, batch_first=True, padding_value=20939)  # word_vocab([\"OOV\"])\n",
    "    labels = nn.utils.rnn.pad_sequence(labels, batch_first=True, padding_value=12)  # label_vocab([\"O\"])\n",
    "    seqlens = torch.tensor(seqlens, dtype=torch.long)\n",
    "    return words, labels, seqlens\n",
    "\n",
    "\n",
    "eval_dataloader = DataLoader(eval_dataset, batch_size=3, shuffle=False, collate_fn=collate_fn)\n",
    "for words, labels, seqlens in eval_dataloader:\n",
    "    print(words)\n",
    "    print(seqlens)\n",
    "    break"
   ]
  },
  {
   "cell_type": "markdown",
   "metadata": {},
   "source": [
    "## Part C. 训练\n",
    "\n",
    "### C.1 构建 BiGRU 模型\n",
    "\n",
    "我们使用BiGRU作为基础模型，BiGRU的结构如下：\n",
    "\n",
    "- Embedding层：将输入的字符id映射为向量表示\n",
    "- BiGRU层：将Embedding层的输出作为BiGRU的输入，得到每个字符的输出表示\n",
    "- Linear层：将BiGRU的输出映射到标签空间"
   ]
  },
  {
   "cell_type": "code",
   "execution_count": 8,
   "metadata": {},
   "outputs": [
    {
     "name": "stdout",
     "output_type": "stream",
     "text": [
      "torch.Size([3, 32, 13])\n"
     ]
    }
   ],
   "source": [
    "class BiGRU(nn.Module):\n",
    "    def __init__(self, embedding_dim=300, hidden_size=300, word_vocab_len=20940, label_vocab_len=13):\n",
    "        super(BiGRU, self).__init__()\n",
    "        self.word_embed = nn.Embedding(word_vocab_len, embedding_dim)\n",
    "        # TODO: 实现双向GRU层, 层数为2\n",
    "        self.bigru = \n",
    "        # TODO: 实现线性层\n",
    "        self.fc = \n",
    "        \n",
    "    def forward(self, x):\n",
    "        embs = self.word_embed(x)\n",
    "        output, _ = self.bigru(embs)\n",
    "        output = self.fc(output)\n",
    "        return output\n",
    "\n",
    "\n",
    "model_test = BiGRU()\n",
    "x_test = torch.randint(0, 20940, (3, 32))\n",
    "output = model_test(x_test)\n",
    "print(output.shape)\n",
    "assert output.shape == torch.Size([3, 32, 13])"
   ]
  },
  {
   "cell_type": "markdown",
   "metadata": {},
   "source": [
    "### C.2 模型训练"
   ]
  },
  {
   "cell_type": "code",
   "execution_count": 9,
   "metadata": {},
   "outputs": [],
   "source": [
    "class Accumulator:\n",
    "    def __init__(self, n):\n",
    "        self.data = [0.0] * n\n",
    "\n",
    "    def add(self, *args):\n",
    "        self.data = [a + float(b) for a, b in zip(self.data, args)]\n",
    "\n",
    "    def reset(self):\n",
    "        self.data = [0.0] * len(self.data)\n",
    "\n",
    "    def __getitem__(self, idx):\n",
    "        return self.data[idx]\n",
    "\n",
    "\n",
    "def train_epoch(net, train_iter, loss_fn, optimizer):\n",
    "    net.train()\n",
    "    device = next(net.parameters()).device\n",
    "    metrics = Accumulator(4)\n",
    "    for X, y, lens in train_iter:\n",
    "        X, y, lens = X.to(device), y.to(device), lens.to(device)\n",
    "        y_hat = net(X)\n",
    "        # TODO: 计算损失\n",
    "        loss = \n",
    "        optimizer.zero_grad()\n",
    "        loss.backward()\n",
    "        optimizer.step()\n",
    "\n",
    "        num = y.shape[0] * y.shape[1]\n",
    "        metrics.add(loss * num, accuracy(y_hat, y) * num, num)\n",
    "        train_loss = metrics[0] / metrics[2]\n",
    "        train_acc = metrics[1] / metrics[2]\n",
    "    return train_loss, train_acc\n",
    "\n",
    "\n",
    "@torch.no_grad()\n",
    "def eval_model(net, test_iter, loss_fn):\n",
    "    net.eval()\n",
    "    device = next(net.parameters()).device\n",
    "    metrics = Accumulator(3)\n",
    "    for X, y, lens in test_iter:\n",
    "        X, y, lens = X.to(device), y.to(device), lens.to(device)\n",
    "        y_hat = net(X)\n",
    "        # TODO: 计算损失\n",
    "        loss = \n",
    "\n",
    "        num = y.shape[0] * y.shape[1]\n",
    "        metrics.add(loss * num, accuracy(y_hat, y) * num, num)\n",
    "    test_loss = metrics[0] / metrics[2]\n",
    "    test_acc = metrics[1] / metrics[2]\n",
    "    return test_loss, test_acc\n",
    "\n",
    "\n",
    "def accuracy(y_hat, y_true):\n",
    "    y_pred = y_hat.argmax(dim=-1)\n",
    "    return (y_pred == y_true).float().mean().item()"
   ]
  },
  {
   "cell_type": "code",
   "execution_count": 10,
   "metadata": {},
   "outputs": [
    {
     "name": "stdout",
     "output_type": "stream",
     "text": [
      "Epoch 1/50 - Train Loss: 1.102110 - Test Loss: 0.602513 - Train Acc: 0.651455 - Test Acc: 0.796417\n",
      "Epoch 2/50 - Train Loss: 0.655998 - Test Loss: 0.477593 - Train Acc: 0.772671 - Test Acc: 0.826167\n",
      "Epoch 3/50 - Train Loss: 0.552385 - Test Loss: 0.420643 - Train Acc: 0.801656 - Test Acc: 0.843417\n",
      "Epoch 4/50 - Train Loss: 0.489811 - Test Loss: 0.387812 - Train Acc: 0.819366 - Test Acc: 0.853500\n",
      "Epoch 5/50 - Train Loss: 0.456109 - Test Loss: 0.382028 - Train Acc: 0.829591 - Test Acc: 0.853500\n",
      "Epoch 6/50 - Train Loss: 0.427834 - Test Loss: 0.374384 - Train Acc: 0.840247 - Test Acc: 0.859500\n",
      "Epoch 7/50 - Train Loss: 0.420915 - Test Loss: 0.359392 - Train Acc: 0.841175 - Test Acc: 0.860000\n",
      "Epoch 8/50 - Train Loss: 0.396237 - Test Loss: 0.348357 - Train Acc: 0.851280 - Test Acc: 0.869917\n",
      "Epoch 9/50 - Train Loss: 0.381825 - Test Loss: 0.338438 - Train Acc: 0.856486 - Test Acc: 0.873167\n",
      "Epoch 10/50 - Train Loss: 0.374144 - Test Loss: 0.339813 - Train Acc: 0.858905 - Test Acc: 0.872667\n",
      "Epoch 11/50 - Train Loss: 0.375440 - Test Loss: 0.329972 - Train Acc: 0.857638 - Test Acc: 0.874417\n",
      "Epoch 12/50 - Train Loss: 0.359173 - Test Loss: 0.323318 - Train Acc: 0.861898 - Test Acc: 0.879083\n",
      "Epoch 13/50 - Train Loss: 0.358546 - Test Loss: 0.318765 - Train Acc: 0.861718 - Test Acc: 0.880500\n",
      "Epoch 14/50 - Train Loss: 0.354488 - Test Loss: 0.322634 - Train Acc: 0.862915 - Test Acc: 0.878333\n",
      "Epoch 15/50 - Train Loss: 0.341346 - Test Loss: 0.321697 - Train Acc: 0.868477 - Test Acc: 0.879667\n",
      "Epoch 16/50 - Train Loss: 0.335379 - Test Loss: 0.318171 - Train Acc: 0.869679 - Test Acc: 0.882833\n",
      "Epoch 17/50 - Train Loss: 0.336322 - Test Loss: 0.328608 - Train Acc: 0.868932 - Test Acc: 0.877167\n",
      "Epoch 18/50 - Train Loss: 0.327013 - Test Loss: 0.327558 - Train Acc: 0.872612 - Test Acc: 0.877833\n",
      "Epoch 19/50 - Train Loss: 0.330035 - Test Loss: 0.320241 - Train Acc: 0.871737 - Test Acc: 0.879583\n",
      "Epoch 20/50 - Train Loss: 0.326495 - Test Loss: 0.316986 - Train Acc: 0.872365 - Test Acc: 0.881167\n",
      "Epoch 21/50 - Train Loss: 0.320999 - Test Loss: 0.325981 - Train Acc: 0.875720 - Test Acc: 0.880750\n",
      "Epoch 22/50 - Train Loss: 0.322976 - Test Loss: 0.323838 - Train Acc: 0.872687 - Test Acc: 0.880250\n",
      "Epoch 23/50 - Train Loss: 0.311608 - Test Loss: 0.319407 - Train Acc: 0.876964 - Test Acc: 0.881167\n",
      "Epoch 24/50 - Train Loss: 0.309446 - Test Loss: 0.316399 - Train Acc: 0.877606 - Test Acc: 0.883500\n",
      "Epoch 25/50 - Train Loss: 0.310290 - Test Loss: 0.318100 - Train Acc: 0.877954 - Test Acc: 0.883833\n",
      "Epoch 26/50 - Train Loss: 0.307103 - Test Loss: 0.333178 - Train Acc: 0.878734 - Test Acc: 0.876750\n",
      "Epoch 27/50 - Train Loss: 0.309624 - Test Loss: 0.322735 - Train Acc: 0.876942 - Test Acc: 0.883083\n",
      "Epoch 28/50 - Train Loss: 0.304914 - Test Loss: 0.325985 - Train Acc: 0.878976 - Test Acc: 0.880333\n",
      "Epoch 29/50 - Train Loss: 0.303547 - Test Loss: 0.330994 - Train Acc: 0.880148 - Test Acc: 0.880417\n",
      "Epoch 30/50 - Train Loss: 0.297467 - Test Loss: 0.328831 - Train Acc: 0.881875 - Test Acc: 0.879917\n",
      "Epoch 31/50 - Train Loss: 0.293016 - Test Loss: 0.323740 - Train Acc: 0.882581 - Test Acc: 0.881167\n",
      "Epoch 32/50 - Train Loss: 0.291378 - Test Loss: 0.333834 - Train Acc: 0.882873 - Test Acc: 0.878667\n",
      "Epoch 33/50 - Train Loss: 0.292404 - Test Loss: 0.330501 - Train Acc: 0.882996 - Test Acc: 0.880167\n",
      "Epoch 34/50 - Train Loss: 0.288764 - Test Loss: 0.332371 - Train Acc: 0.884078 - Test Acc: 0.883167\n",
      "Epoch 35/50 - Train Loss: 0.290783 - Test Loss: 0.329031 - Train Acc: 0.883043 - Test Acc: 0.881500\n",
      "Epoch 36/50 - Train Loss: 0.289943 - Test Loss: 0.330554 - Train Acc: 0.883235 - Test Acc: 0.880250\n",
      "Epoch 37/50 - Train Loss: 0.285727 - Test Loss: 0.332164 - Train Acc: 0.884489 - Test Acc: 0.882167\n",
      "Epoch 38/50 - Train Loss: 0.280696 - Test Loss: 0.336348 - Train Acc: 0.885668 - Test Acc: 0.879833\n",
      "Epoch 39/50 - Train Loss: 0.279288 - Test Loss: 0.346409 - Train Acc: 0.887239 - Test Acc: 0.878000\n",
      "Epoch 40/50 - Train Loss: 0.281066 - Test Loss: 0.340165 - Train Acc: 0.886005 - Test Acc: 0.880500\n",
      "Epoch 41/50 - Train Loss: 0.278899 - Test Loss: 0.343827 - Train Acc: 0.887498 - Test Acc: 0.878250\n",
      "Epoch 42/50 - Train Loss: 0.273199 - Test Loss: 0.346624 - Train Acc: 0.889096 - Test Acc: 0.877917\n",
      "Epoch 43/50 - Train Loss: 0.274941 - Test Loss: 0.343764 - Train Acc: 0.888090 - Test Acc: 0.881000\n",
      "Epoch 44/50 - Train Loss: 0.273544 - Test Loss: 0.344737 - Train Acc: 0.887906 - Test Acc: 0.880167\n",
      "Epoch 45/50 - Train Loss: 0.271434 - Test Loss: 0.337076 - Train Acc: 0.888908 - Test Acc: 0.883583\n",
      "Epoch 46/50 - Train Loss: 0.268312 - Test Loss: 0.355539 - Train Acc: 0.890734 - Test Acc: 0.876667\n",
      "Epoch 47/50 - Train Loss: 0.267461 - Test Loss: 0.350252 - Train Acc: 0.890433 - Test Acc: 0.879750\n",
      "Epoch 48/50 - Train Loss: 0.265457 - Test Loss: 0.354069 - Train Acc: 0.891238 - Test Acc: 0.876500\n",
      "Epoch 49/50 - Train Loss: 0.269971 - Test Loss: 0.346408 - Train Acc: 0.890013 - Test Acc: 0.881583\n",
      "Epoch 50/50 - Train Loss: 0.265546 - Test Loss: 0.351012 - Train Acc: 0.890466 - Test Acc: 0.880833\n"
     ]
    }
   ],
   "source": [
    "epochs = 50\n",
    "\n",
    "device = torch.device(\"cuda\" if torch.cuda.is_available() else \"cpu\")\n",
    "model = BiGRU(300, 300, 20940, 13)\n",
    "model = model.to(device)\n",
    "loss_fn = nn.CrossEntropyLoss()\n",
    "\n",
    "optimizer = torch.optim.Adam(model.parameters(), lr=0.001)\n",
    "train_dataset = NerDataset(\"data/train.txt\", word_vocab, label_vocab)\n",
    "test_dataset = NerDataset(\"data/dev.txt\", word_vocab, label_vocab)\n",
    "train_iter = DataLoader(train_dataset, batch_size=64, shuffle=True, collate_fn=collate_fn)\n",
    "test_iter = DataLoader(test_dataset, batch_size=256, collate_fn=collate_fn)\n",
    "\n",
    "train_ls, test_ls, train_acc_ls, test_acc_ls = [], [], [], []\n",
    "for epoch in range(1, epochs + 1):\n",
    "    train_loss, train_acc = train_epoch(model, train_iter, loss_fn, optimizer)\n",
    "    test_loss, test_acc = eval_model(model, test_iter, loss_fn)\n",
    "    print(\n",
    "        f\"Epoch {epoch}/{epochs} - Train Loss: {train_loss:.6f} - Test Loss: {test_loss:.6f} - Train Acc: {train_acc:.6f} - Test Acc: {test_acc:.6f}\"\n",
    "    )\n",
    "    train_ls.append(train_loss)\n",
    "    test_ls.append(test_loss)\n",
    "    train_acc_ls.append(train_acc)\n",
    "    test_acc_ls.append(test_acc)\n",
    "# save model\n",
    "# torch.save(model.state_dict(), \"model.pth\")"
   ]
  },
  {
   "cell_type": "markdown",
   "metadata": {},
   "source": [
    "### C.3 模型评估"
   ]
  },
  {
   "cell_type": "code",
   "execution_count": 11,
   "metadata": {},
   "outputs": [
    {
     "data": {
      "image/png": "[encoded data removed]",
      "text/plain": [
       "<Figure size 1200x400 with 2 Axes>"
      ]
     },
     "metadata": {
      "image/png": {
       "height": 389,
       "width": 1190
      }
     },
     "output_type": "display_data"
    },
    {
     "name": "stdout",
     "output_type": "stream",
     "text": [
      "Best test accuaracy:  0.8838333487510681\n"
     ]
    }
   ],
   "source": [
    "import matplotlib.pyplot as plt\n",
    "\n",
    "%config InlineBackend.figure_format='retina'\n",
    "\n",
    "fig, axs = plt.subplots(nrows=1, ncols=2, figsize=(12, 4))\n",
    "\n",
    "# 绘制第一个子图\n",
    "axs[0].plot(train_ls, label=\"train loss\")\n",
    "axs[0].plot(test_ls, label=\"test loss\")\n",
    "axs[0].set_xlabel(\"Epoch\")\n",
    "axs[0].set_ylabel(\"Loss\")\n",
    "axs[0].legend()\n",
    "\n",
    "# 绘制第二个子图\n",
    "axs[1].plot(train_acc_ls, label=\"train_acc\")\n",
    "axs[1].plot(test_acc_ls, label=\"test_acc\")\n",
    "axs[1].axhline(y=0.85, color='r', linestyle='--')\n",
    "axs[1].set_xlabel(\"Epoch\")\n",
    "axs[1].set_ylabel(\"Accuracy\")\n",
    "axs[1].legend()\n",
    "\n",
    "plt.tight_layout()\n",
    "plt.show()\n",
    "print(\"Best test accuaracy: \", max(test_acc_ls))"
   ]
  },
  {
   "cell_type": "markdown",
   "metadata": {},
   "source": [
    "## C.4 预测"
   ]
  },
  {
   "cell_type": "code",
   "execution_count": 12,
   "metadata": {},
   "outputs": [
    {
     "name": "stdout",
     "output_type": "stream",
     "text": [
      "['A1-B', 'A1-I', 'A1-I', 'A2-B', 'A2-I', 'A2-I', 'A4-I', 'A1-B', 'A3-I', 'T-I', 'A2-I', 'A4-I', 'A4-B', 'A4-I', 'A4-I', 'T-B', 'T-I', 'T-I', 'T-I', 'T-B', 'T-I', 'T-I', 'T-I', 'T-B', 'T-I', 'T-I', 'A2-B', 'P-I']\n"
     ]
    }
   ],
   "source": [
    "text = \"广东省梅州市大埔县茶阳镇胜利路13601328173张铱\"\n",
    "text_ids = torch.tensor(word_vocab(text), dtype=torch.long).to(device)\n",
    "output = model(text_ids.unsqueeze(0))\n",
    "y_pred = output.argmax(dim=-1)\n",
    "tags_pred = [label_vocab.id2word[int(x)] for x in y_pred[0]]\n",
    "print(tags_pred)"
   ]
  },
  {
   "cell_type": "code",
   "execution_count": 13,
   "metadata": {},
   "outputs": [
    {
     "name": "stdout",
     "output_type": "stream",
     "text": [
      "{'姓名': '铱', '电话': '茶13601328173', '省份': '广东省埔', '城市': '梅州市阳张', '县区': '县', '详细地址': '大镇胜利路'}\n"
     ]
    }
   ],
   "source": [
    "info = extract_information(text, tags_pred)\n",
    "print(info)"
   ]
  },
  {
   "cell_type": "markdown",
   "metadata": {},
   "source": [
    "## Part D. 拓展阅读\n",
    "\n",
    "### D.1 条件随机场CRF(Conditional Random Fields)\n",
    "\n",
    "在上面的结果中，我们可以看到输出的标签序列存在一些问题，这是因为网络没有充分挖掘到序列的上下文关系。\n",
    "\n",
    "例如，电话号码通常是连续的，如果在一段文字中突然出现了一个数字，那么这个数字大概率是门牌号而不是电话号码。\n",
    "\n",
    "为了解决这个问题，我们可以使用条件随机场（CRF）来对上下文关系进行建模，这里我们直接使用训练好的CRF层，如果想详细了解CRF怎么在模型中使用，可以参考 [Chinese-Medical-Entity-Recognition](https://github.com/XavierWww/Chinese-Medical-Entity-Recognition/blob/master/models.py)"
   ]
  },
  {
   "cell_type": "code",
   "execution_count": 14,
   "metadata": {},
   "outputs": [
    {
     "data": {
      "text/plain": [
       "<All keys matched successfully>"
      ]
     },
     "execution_count": 14,
     "metadata": {},
     "output_type": "execute_result"
    }
   ],
   "source": [
    "class CRF(nn.Module):\n",
    "    \"\"\"Adopted from https://github.com/kmkurn/pytorch-crf/blob/master/torchcrf/__init__.py\n",
    "\n",
    "    Args:\n",
    "        num_tags: Number of tags.\n",
    "\n",
    "    Attributes:\n",
    "        start_transitions (`~torch.nn.Parameter`): Start transition score tensor of size\n",
    "            ``(num_tags,)``.\n",
    "        end_transitions (`~torch.nn.Parameter`): End transition score tensor of size\n",
    "            ``(num_tags,)``.\n",
    "        transitions (`~torch.nn.Parameter`): Transition score tensor of size\n",
    "            ``(num_tags, num_tags)``.\n",
    "    \"\"\"\n",
    "\n",
    "    def __init__(self, num_tags: int) -> None:\n",
    "        super().__init__()\n",
    "        self.num_tags = num_tags\n",
    "        self.start_transitions = nn.Parameter(torch.empty(num_tags))\n",
    "        self.end_transitions = nn.Parameter(torch.empty(num_tags))\n",
    "        self.transitions = nn.Parameter(torch.empty(num_tags, num_tags))\n",
    "\n",
    "    def viterbi_decode(self, emissions: torch.FloatTensor):\n",
    "        # Viterbi algorithm: https://en.wikipedia.org/wiki/Viterbi_algorithm\n",
    "        mask = emissions.new_ones(emissions.shape[:2], dtype=torch.uint8).bool()\n",
    "        emissions = emissions.transpose(0, 1)\n",
    "        mask = mask.transpose(0, 1)\n",
    "        assert emissions.dim() == 3 and mask.dim() == 2\n",
    "        assert emissions.shape[:2] == mask.shape\n",
    "        assert emissions.size(2) == self.num_tags\n",
    "        assert mask[0].all()\n",
    "        seq_length, batch_size = mask.shape\n",
    "        # Start transition and first emission\n",
    "        score = self.start_transitions + emissions[0]\n",
    "        history = []\n",
    "\n",
    "        # Viterbi algorithm recursive case: we compute the score of the best tag sequence\n",
    "        # for every possible next tag\n",
    "        for i in range(1, seq_length):\n",
    "            broadcast_score = score.unsqueeze(2)\n",
    "            broadcast_emission = emissions[i].unsqueeze(1)\n",
    "            next_score = broadcast_score + self.transitions + broadcast_emission\n",
    "            # Find the maximum score over all possible current tag\n",
    "            next_score, indices = next_score.max(dim=1)\n",
    "            score = torch.where(mask[i].unsqueeze(1), next_score, score)\n",
    "            history.append(indices)\n",
    "        # End transition score\n",
    "        score += self.end_transitions\n",
    "        # Now, compute the best path for each sample\n",
    "        seq_ends = mask.long().sum(dim=0) - 1\n",
    "        best_tags_list = []\n",
    "        for idx in range(batch_size):\n",
    "            # Find the tag which maximizes the score at the last timestep; this is our best tag\n",
    "            # for the last timestep\n",
    "            _, best_last_tag = score[idx].max(dim=0)\n",
    "            best_tags = [best_last_tag.item()]\n",
    "            # We trace back where the best last tag comes from, append that to our best tag\n",
    "            # sequence, and trace it back again, and so on\n",
    "            for hist in reversed(history[: seq_ends[idx]]):\n",
    "                best_last_tag = hist[idx][best_tags[-1]]\n",
    "                best_tags.append(best_last_tag.item())\n",
    "            # Reverse the order because we start from the last timestep\n",
    "            best_tags.reverse()\n",
    "            best_tags_list.append(best_tags)\n",
    "\n",
    "        return best_tags_list\n",
    "\n",
    "\n",
    "crf = CRF(13).to(device)\n",
    "crf.load_state_dict(torch.load(\"crf.pth\"))"
   ]
  },
  {
   "cell_type": "markdown",
   "metadata": {},
   "source": [
    "接下来，我们测试经过CRF层优化后的效果："
   ]
  },
  {
   "cell_type": "code",
   "execution_count": 15,
   "metadata": {},
   "outputs": [
    {
     "name": "stdout",
     "output_type": "stream",
     "text": [
      "{'姓名': '张铱', '电话': '13601328173', '省份': '广东省', '城市': '梅州市', '县区': '大埔县', '详细地址': '茶阳镇胜利路'}\n"
     ]
    }
   ],
   "source": [
    "y_crf = crf.viterbi_decode(output)\n",
    "tags_pred = [label_vocab.id2word[int(x)] for x in y_crf[0]]\n",
    "info = extract_information(text, tags_pred)\n",
    "print(info)"
   ]
  },
  {
   "cell_type": "code",
   "execution_count": 16,
   "metadata": {},
   "outputs": [
    {
     "name": "stdout",
     "output_type": "stream",
     "text": [
      "{'姓名': '刘伟', '电话': '18600009172', '省份': '', '城市': '北京市昌', '县区': '平区', '详细地址': '高教园南三街9号北京航空航天大学'}\n"
     ]
    }
   ],
   "source": [
    "text = \"北京市昌平区高教园南三街9号北京航空航天大学18600009172刘伟\"\n",
    "text_ids = torch.tensor(word_vocab(text), dtype=torch.long).to(device)\n",
    "output = model(text_ids.unsqueeze(0))\n",
    "y_crf = crf.viterbi_decode(output)\n",
    "tags_pred = [label_vocab.id2word[int(x)] for x in y_crf[0]]\n",
    "info = extract_information(text, tags_pred)\n",
    "print(info)"
   ]
  },
  {
   "cell_type": "markdown",
   "metadata": {},
   "source": [
    "### D.2 预训练词向量优化\n",
    "\n",
    "我们可以用大型的预训练模型来代替Embedding层，这样能进一步优化模型的文本理解效果，这里不再演示，感兴趣的同学可以自行尝试bert-base-chinese等中文模型。"
   ]
  }
 ],
 "metadata": {
  "kernelspec": {
   "display_name": "dl",
   "language": "python",
   "name": "python3"
  },
  "language_info": {
   "codemirror_mode": {
    "name": "ipython",
    "version": 3
   },
   "file_extension": ".py",
   "mimetype": "text/x-python",
   "name": "python",
   "nbconvert_exporter": "python",
   "pygments_lexer": "ipython3",
   "version": "3.9.18"
  }
 },
 "nbformat": 4,
 "nbformat_minor": 2
}
